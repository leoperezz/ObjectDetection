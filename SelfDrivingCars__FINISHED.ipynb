{
  "cells": [
    {
      "cell_type": "markdown",
      "metadata": {
        "id": "xF7h8XS1k5A9"
      },
      "source": [
        "### 1. Download data from **Kaggle** "
      ]
    },
    {
      "cell_type": "code",
      "execution_count": null,
      "metadata": {
        "colab": {
          "base_uri": "https://localhost:8080/"
        },
        "id": "X01EgWFfOYB1",
        "outputId": "011f1841-e5ab-45f9-fa99-17ad0666b661"
      },
      "outputs": [
        {
          "name": "stdout",
          "output_type": "stream",
          "text": [
            "Looking in indexes: https://pypi.org/simple, https://us-python.pkg.dev/colab-wheels/public/simple/\n",
            "Requirement already satisfied: tensorflow==2.7.0 in /usr/local/lib/python3.7/dist-packages (2.7.0+zzzcolab20220506150900)\n",
            "Requirement already satisfied: absl-py>=0.4.0 in /usr/local/lib/python3.7/dist-packages (from tensorflow==2.7.0) (1.2.0)\n",
            "Requirement already satisfied: tensorboard~=2.6 in /usr/local/lib/python3.7/dist-packages (from tensorflow==2.7.0) (2.9.1)\n",
            "Requirement already satisfied: keras<2.8,>=2.7.0rc0 in /usr/local/lib/python3.7/dist-packages (from tensorflow==2.7.0) (2.7.0)\n",
            "Requirement already satisfied: six>=1.12.0 in /usr/local/lib/python3.7/dist-packages (from tensorflow==2.7.0) (1.15.0)\n",
            "Requirement already satisfied: typing-extensions>=3.6.6 in /usr/local/lib/python3.7/dist-packages (from tensorflow==2.7.0) (4.1.1)\n",
            "Requirement already satisfied: h5py>=2.9.0 in /usr/local/lib/python3.7/dist-packages (from tensorflow==2.7.0) (3.1.0)\n",
            "Requirement already satisfied: google-pasta>=0.1.1 in /usr/local/lib/python3.7/dist-packages (from tensorflow==2.7.0) (0.2.0)\n",
            "Requirement already satisfied: tensorflow-estimator<2.8,~=2.7.0rc0 in /usr/local/lib/python3.7/dist-packages (from tensorflow==2.7.0) (2.7.0)\n",
            "Requirement already satisfied: wrapt>=1.11.0 in /usr/local/lib/python3.7/dist-packages (from tensorflow==2.7.0) (1.14.1)\n",
            "Requirement already satisfied: termcolor>=1.1.0 in /usr/local/lib/python3.7/dist-packages (from tensorflow==2.7.0) (1.1.0)\n",
            "Requirement already satisfied: tensorflow-io-gcs-filesystem>=0.21.0 in /usr/local/lib/python3.7/dist-packages (from tensorflow==2.7.0) (0.26.0)\n",
            "Requirement already satisfied: gast<0.5.0,>=0.2.1 in /usr/local/lib/python3.7/dist-packages (from tensorflow==2.7.0) (0.4.0)\n",
            "Requirement already satisfied: keras-preprocessing>=1.1.1 in /usr/local/lib/python3.7/dist-packages (from tensorflow==2.7.0) (1.1.2)\n",
            "Requirement already satisfied: opt-einsum>=2.3.2 in /usr/local/lib/python3.7/dist-packages (from tensorflow==2.7.0) (3.3.0)\n",
            "Requirement already satisfied: flatbuffers<3.0,>=1.12 in /usr/local/lib/python3.7/dist-packages (from tensorflow==2.7.0) (1.12)\n",
            "Requirement already satisfied: grpcio<2.0,>=1.24.3 in /usr/local/lib/python3.7/dist-packages (from tensorflow==2.7.0) (1.47.0)\n",
            "Requirement already satisfied: astunparse>=1.6.0 in /usr/local/lib/python3.7/dist-packages (from tensorflow==2.7.0) (1.6.3)\n",
            "Requirement already satisfied: libclang>=9.0.1 in /usr/local/lib/python3.7/dist-packages (from tensorflow==2.7.0) (14.0.6)\n",
            "Requirement already satisfied: numpy>=1.14.5 in /usr/local/lib/python3.7/dist-packages (from tensorflow==2.7.0) (1.21.6)\n",
            "Requirement already satisfied: protobuf>=3.9.2 in /usr/local/lib/python3.7/dist-packages (from tensorflow==2.7.0) (3.19.4)\n",
            "Requirement already satisfied: wheel<1.0,>=0.32.0 in /usr/local/lib/python3.7/dist-packages (from tensorflow==2.7.0) (0.37.1)\n",
            "Requirement already satisfied: cached-property in /usr/local/lib/python3.7/dist-packages (from h5py>=2.9.0->tensorflow==2.7.0) (1.5.2)\n",
            "Requirement already satisfied: werkzeug>=1.0.1 in /usr/local/lib/python3.7/dist-packages (from tensorboard~=2.6->tensorflow==2.7.0) (1.0.1)\n",
            "Requirement already satisfied: markdown>=2.6.8 in /usr/local/lib/python3.7/dist-packages (from tensorboard~=2.6->tensorflow==2.7.0) (3.4.1)\n",
            "Requirement already satisfied: google-auth<3,>=1.6.3 in /usr/local/lib/python3.7/dist-packages (from tensorboard~=2.6->tensorflow==2.7.0) (1.35.0)\n",
            "Requirement already satisfied: tensorboard-data-server<0.7.0,>=0.6.0 in /usr/local/lib/python3.7/dist-packages (from tensorboard~=2.6->tensorflow==2.7.0) (0.6.1)\n",
            "Requirement already satisfied: setuptools>=41.0.0 in /usr/local/lib/python3.7/dist-packages (from tensorboard~=2.6->tensorflow==2.7.0) (57.4.0)\n",
            "Requirement already satisfied: tensorboard-plugin-wit>=1.6.0 in /usr/local/lib/python3.7/dist-packages (from tensorboard~=2.6->tensorflow==2.7.0) (1.8.1)\n",
            "Requirement already satisfied: requests<3,>=2.21.0 in /usr/local/lib/python3.7/dist-packages (from tensorboard~=2.6->tensorflow==2.7.0) (2.28.1)\n",
            "Requirement already satisfied: google-auth-oauthlib<0.5,>=0.4.1 in /usr/local/lib/python3.7/dist-packages (from tensorboard~=2.6->tensorflow==2.7.0) (0.4.6)\n",
            "Requirement already satisfied: pyasn1-modules>=0.2.1 in /usr/local/lib/python3.7/dist-packages (from google-auth<3,>=1.6.3->tensorboard~=2.6->tensorflow==2.7.0) (0.2.8)\n",
            "Requirement already satisfied: rsa<5,>=3.1.4 in /usr/local/lib/python3.7/dist-packages (from google-auth<3,>=1.6.3->tensorboard~=2.6->tensorflow==2.7.0) (4.9)\n",
            "Requirement already satisfied: cachetools<5.0,>=2.0.0 in /usr/local/lib/python3.7/dist-packages (from google-auth<3,>=1.6.3->tensorboard~=2.6->tensorflow==2.7.0) (4.2.4)\n",
            "Requirement already satisfied: requests-oauthlib>=0.7.0 in /usr/local/lib/python3.7/dist-packages (from google-auth-oauthlib<0.5,>=0.4.1->tensorboard~=2.6->tensorflow==2.7.0) (1.3.1)\n",
            "Requirement already satisfied: importlib-metadata>=4.4 in /usr/local/lib/python3.7/dist-packages (from markdown>=2.6.8->tensorboard~=2.6->tensorflow==2.7.0) (4.12.0)\n",
            "Requirement already satisfied: zipp>=0.5 in /usr/local/lib/python3.7/dist-packages (from importlib-metadata>=4.4->markdown>=2.6.8->tensorboard~=2.6->tensorflow==2.7.0) (3.8.1)\n",
            "Requirement already satisfied: pyasn1<0.5.0,>=0.4.6 in /usr/local/lib/python3.7/dist-packages (from pyasn1-modules>=0.2.1->google-auth<3,>=1.6.3->tensorboard~=2.6->tensorflow==2.7.0) (0.4.8)\n",
            "Requirement already satisfied: charset-normalizer<3,>=2 in /usr/local/lib/python3.7/dist-packages (from requests<3,>=2.21.0->tensorboard~=2.6->tensorflow==2.7.0) (2.1.0)\n",
            "Requirement already satisfied: idna<4,>=2.5 in /usr/local/lib/python3.7/dist-packages (from requests<3,>=2.21.0->tensorboard~=2.6->tensorflow==2.7.0) (2.10)\n",
            "Requirement already satisfied: urllib3<1.27,>=1.21.1 in /usr/local/lib/python3.7/dist-packages (from requests<3,>=2.21.0->tensorboard~=2.6->tensorflow==2.7.0) (1.24.3)\n",
            "Requirement already satisfied: certifi>=2017.4.17 in /usr/local/lib/python3.7/dist-packages (from requests<3,>=2.21.0->tensorboard~=2.6->tensorflow==2.7.0) (2022.6.15)\n",
            "Requirement already satisfied: oauthlib>=3.0.0 in /usr/local/lib/python3.7/dist-packages (from requests-oauthlib>=0.7.0->google-auth-oauthlib<0.5,>=0.4.1->tensorboard~=2.6->tensorflow==2.7.0) (3.2.0)\n"
          ]
        }
      ],
      "source": [
        "!pip install tensorflow==2.7.0"
      ]
    },
    {
      "cell_type": "code",
      "execution_count": null,
      "metadata": {
        "colab": {
          "base_uri": "https://localhost:8080/"
        },
        "id": "bQxQ9oaLKYUF",
        "outputId": "63687941-ba9e-4313-bd9b-2a1dea5fb309"
      },
      "outputs": [
        {
          "name": "stdout",
          "output_type": "stream",
          "text": [
            "Looking in indexes: https://pypi.org/simple, https://us-python.pkg.dev/colab-wheels/public/simple/\n",
            "Collecting opendatasets\n",
            "  Downloading opendatasets-0.1.22-py3-none-any.whl (15 kB)\n",
            "Requirement already satisfied: kaggle in /usr/local/lib/python3.7/dist-packages (from opendatasets) (1.5.12)\n",
            "Requirement already satisfied: click in /usr/local/lib/python3.7/dist-packages (from opendatasets) (7.1.2)\n",
            "Requirement already satisfied: tqdm in /usr/local/lib/python3.7/dist-packages (from opendatasets) (4.64.0)\n",
            "Requirement already satisfied: python-dateutil in /usr/local/lib/python3.7/dist-packages (from kaggle->opendatasets) (2.8.2)\n",
            "Requirement already satisfied: urllib3 in /usr/local/lib/python3.7/dist-packages (from kaggle->opendatasets) (1.24.3)\n",
            "Requirement already satisfied: requests in /usr/local/lib/python3.7/dist-packages (from kaggle->opendatasets) (2.23.0)\n",
            "Requirement already satisfied: python-slugify in /usr/local/lib/python3.7/dist-packages (from kaggle->opendatasets) (6.1.2)\n",
            "Requirement already satisfied: six>=1.10 in /usr/local/lib/python3.7/dist-packages (from kaggle->opendatasets) (1.15.0)\n",
            "Requirement already satisfied: certifi in /usr/local/lib/python3.7/dist-packages (from kaggle->opendatasets) (2022.6.15)\n",
            "Requirement already satisfied: text-unidecode>=1.3 in /usr/local/lib/python3.7/dist-packages (from python-slugify->kaggle->opendatasets) (1.3)\n",
            "Requirement already satisfied: chardet<4,>=3.0.2 in /usr/local/lib/python3.7/dist-packages (from requests->kaggle->opendatasets) (3.0.4)\n",
            "Requirement already satisfied: idna<3,>=2.5 in /usr/local/lib/python3.7/dist-packages (from requests->kaggle->opendatasets) (2.10)\n",
            "Installing collected packages: opendatasets\n",
            "Successfully installed opendatasets-0.1.22\n"
          ]
        }
      ],
      "source": [
        "!pip install opendatasets"
      ]
    },
    {
      "cell_type": "code",
      "execution_count": null,
      "metadata": {
        "colab": {
          "base_uri": "https://localhost:8080/"
        },
        "id": "TO53OpeSKfTL",
        "outputId": "af034df1-49bb-4069-a4e8-a3399755150e"
      },
      "outputs": [
        {
          "name": "stdout",
          "output_type": "stream",
          "text": [
            "Skipping, found downloaded files in \"./self-driving-cars\" (use force=True to force download)\n"
          ]
        }
      ],
      "source": [
        "import opendatasets as od\n",
        "url_path='https://www.kaggle.com/datasets/alincijov/self-driving-cars'\n",
        "od.download(url_path)"
      ]
    },
    {
      "cell_type": "code",
      "execution_count": null,
      "metadata": {
        "colab": {
          "base_uri": "https://localhost:8080/"
        },
        "id": "oLkoX2mIKZB2",
        "outputId": "96a443f3-ef53-4a07-ab03-c2615f25d761"
      },
      "outputs": [
        {
          "name": "stdout",
          "output_type": "stream",
          "text": [
            "Size of train data: 926\n",
            "Size of test data: 228\n"
          ]
        }
      ],
      "source": [
        "from os.path import join\n",
        "import pandas as pd\n",
        "import numpy as np\n",
        "from PIL import Image\n",
        "\n",
        "def process_dataframes(train_df,test_df,size_capacity=0.1):\n",
        "  '''\n",
        "\n",
        "  train_df: DataFrame wich contains the id of the image and bbox coordinates\n",
        "  for training.\n",
        "\n",
        "  test_df: DataFrame wich contains the id of the image and bbox coordinates for\n",
        "  validation\n",
        "\n",
        "  size_capacity: float wich represents the size of the data from train_df and test_df\n",
        "  \n",
        "  '''\n",
        "  columns=['frame','ymin','xmin','ymax','xmax','class_id']\n",
        "  train_df_=train_df[columns]\n",
        "  test_df_=test_df[columns]\n",
        "  train_size=int(len(train_df_)*size_capacity)\n",
        "  test_size=int(len(test_df_)*size_capacity)\n",
        "  print(f'Size of train data: {train_size}')\n",
        "  print(f'Size of test data: {test_size}')\n",
        "  return train_df_.iloc[:train_size,:],test_df_.iloc[:test_size,:]\n",
        "\n",
        "train_data=pd.read_csv('/content/self-driving-cars/labels_train.csv')\n",
        "test_data=pd.read_csv('/content/self-driving-cars/labels_val.csv')\n",
        "\n",
        "train_df,test_df=process_dataframes(train_data,test_data,0.007)"
      ]
    },
    {
      "cell_type": "code",
      "execution_count": null,
      "metadata": {
        "colab": {
          "base_uri": "https://localhost:8080/"
        },
        "id": "q4A9lsj48eBr",
        "outputId": "1d21bf06-f949-4061-b99d-05883b8ae912"
      },
      "outputs": [
        {
          "name": "stdout",
          "output_type": "stream",
          "text": [
            "<class 'pandas.core.frame.DataFrame'>\n",
            "RangeIndex: 926 entries, 0 to 925\n",
            "Data columns (total 6 columns):\n",
            " #   Column    Non-Null Count  Dtype \n",
            "---  ------    --------------  ----- \n",
            " 0   frame     926 non-null    object\n",
            " 1   ymin      926 non-null    int64 \n",
            " 2   xmin      926 non-null    int64 \n",
            " 3   ymax      926 non-null    int64 \n",
            " 4   xmax      926 non-null    int64 \n",
            " 5   class_id  926 non-null    int64 \n",
            "dtypes: int64(5), object(1)\n",
            "memory usage: 43.5+ KB\n"
          ]
        }
      ],
      "source": [
        "train_df.info()"
      ]
    },
    {
      "cell_type": "code",
      "execution_count": null,
      "metadata": {
        "id": "pDRE0GVVZ7hJ"
      },
      "outputs": [],
      "source": [
        "import os\n",
        "train_image_dir = 'models/research/object_detection/test_images/ducky/train/'\n",
        "train_images_np = []\n",
        "for i in range(1, 6):\n",
        "  image_path = os.path.join(train_image_dir, 'robertducky' + str(i) + '.jpg')\n",
        "  image=load_img(image_path)\n",
        "  image=img_to_array(image)\n",
        "  train_images_np.append(image)"
      ]
    },
    {
      "cell_type": "code",
      "execution_count": null,
      "metadata": {
        "colab": {
          "base_uri": "https://localhost:8080/",
          "height": 278
        },
        "id": "cmy67SaD97OG",
        "outputId": "105f256e-9704-4abd-c3b8-b0d74dd19ea6"
      },
      "outputs": [
        {
          "data": {
            "text/plain": [
              "<matplotlib.image.AxesImage at 0x7f6ecbab57d0>"
            ]
          },
          "execution_count": 7,
          "metadata": {},
          "output_type": "execute_result"
        },
        {
          "data": {
            "image/png": "[encoded data removed]",
            "text/plain": [
              "<Figure size 432x288 with 1 Axes>"
            ]
          },
          "metadata": {},
          "output_type": "display_data"
        }
      ],
      "source": [
        "import tensorflow as tf\n",
        "import matplotlib.pyplot as plt\n",
        "from tensorflow.keras.utils import load_img\n",
        "from tensorflow.keras.preprocessing.image import img_to_array\n",
        "%matplotlib inline\n",
        "\n",
        "img=load_img('/content/self-driving-cars/images/1478019952686311006.jpg')\n",
        "img=img_to_array(img)\n",
        "img/=255.0\n",
        "plt.imshow(img)"
      ]
    },
    {
      "cell_type": "code",
      "execution_count": null,
      "metadata": {
        "colab": {
          "base_uri": "https://localhost:8080/"
        },
        "id": "7ccMfMAKZ0qd",
        "outputId": "2986bb68-a866-49b7-d641-a51651139f1a"
      },
      "outputs": [
        {
          "data": {
            "text/plain": [
              "array([1, 3, 2, 5, 4])"
            ]
          },
          "execution_count": 11,
          "metadata": {},
          "output_type": "execute_result"
        }
      ],
      "source": [
        "num_classes=len(train_df['class_id'].unique())\n",
        "train_df['class_id'].unique()"
      ]
    },
    {
      "cell_type": "code",
      "execution_count": null,
      "metadata": {
        "colab": {
          "base_uri": "https://localhost:8080/"
        },
        "id": "_8m62KPk8sws",
        "outputId": "944ddea0-5960-4264-f388-46431979c9fc"
      },
      "outputs": [
        {
          "name": "stdout",
          "output_type": "stream",
          "text": [
            "Tensor created!\n",
            "Tensor created!\n"
          ]
        }
      ],
      "source": [
        "num_classes=len(train_df['class_id'].unique())\n",
        "\n",
        "def preprocess_bboxes(bboxes,image):\n",
        "  shape=image.shape\n",
        "  y_factor=shape[0]\n",
        "  x_factor=shape[1]\n",
        "  shape_img=np.array([y_factor,x_factor,y_factor,x_factor])\n",
        "  bboxes/=shape_img\n",
        "  return bboxes\n",
        "\n",
        "\n",
        "def create_tensor_from_dataframe(data,images_path,batch_size):\n",
        "\n",
        "  '''\n",
        "  Returns a tf.data.Dataset wich contains (image,true_shapes,bbox,class)\n",
        "\n",
        "  We need to preprocess the coordinates of bboxes and image.\n",
        "\n",
        "  data: DataFrame wich contains the id,bboxes and labels.\n",
        "  images_path: Path of the directory that contains the images.\n",
        "  batch_size: The batch size for the data.\n",
        "\n",
        "  '''\n",
        "\n",
        "  images,true_shapes,bboxes,classes=[],[],[],[]\n",
        "  for img in data.to_numpy():\n",
        "    name_img=img[0]\n",
        "    coordinates_img=img[1:-1]\n",
        "    label_img=tf.one_hot(img[-1]-1,num_classes)\n",
        "\n",
        "    img_PIL=load_img(join(images_path,name_img))\n",
        "    img_np=img_to_array(img_PIL)\n",
        "    '''Solo usa resize si todas las formas son diferentes, ya que no funcionara np.stack\n",
        "       Tampoco se normaliza\n",
        "    '''\n",
        "    #img_np=tf.image.resize(img_np,(640,640)).numpy()\n",
        "    #img_np/=255.0\n",
        "    coordinates_img=preprocess_bboxes(coordinates_img,img_np)\n",
        "    images.append(img_np)\n",
        "    true_shapes.append(np.array(img_np.shape))\n",
        "    bboxes.append(coordinates_img)\n",
        "    classes.append(tf.convert_to_tensor(label_img))\n",
        "\n",
        "\n",
        "  img_tensor=np.stack(images)\n",
        "  true_shapes=np.stack(true_shapes)\n",
        "  bboxes=np.stack(bboxes).astype('float32')\n",
        "  classes=np.stack(classes).astype('float32')\n",
        "  data=tf.data.Dataset.from_tensor_slices((img_tensor,true_shapes,bboxes,classes))\n",
        "  data=data.batch(batch_size)\n",
        "  data=data.shuffle(100)\n",
        "  data_=[[img,shapes,bboxes,classes] for (img,shapes,bboxes,classes) in data]\n",
        "  print(f'Tensor created!')\n",
        "  return data_\n",
        "\n",
        "\n",
        "images_path='/content/self-driving-cars/images'\n",
        "BATCH_SIZE=5\n",
        "train_ds=create_tensor_from_dataframe(train_df,images_path,BATCH_SIZE)\n",
        "test_ds=create_tensor_from_dataframe(test_df,images_path,BATCH_SIZE)"
      ]
    },
    {
      "cell_type": "markdown",
      "metadata": {
        "id": "w9XsH9ZClBAo"
      },
      "source": [
        "### 2. Make the model\n",
        "\n",
        "Podemos encontrar muchos Checkpoints de los modelos pre entrenandos en la API de tensorflow Object Detection.\n",
        "\n",
        "tensorflow object detection API: https://github.com/tensorflow/models/tree/master/research/object_detection\n",
        "\n",
        "checkpoints: https://github.com/tensorflow/models/blob/master/research/object_detection/g3doc/tf2_detection_zoo.md\n",
        "\n",
        "Notas:\n",
        "\n",
        "\n",
        "*   No importa las dimensiones de las imágenes, ya que con model.preprocess() se adecua a las dimensiones del modelo.\n",
        "*   La prediccion será un diccionario que contiene diversos resultados que serán procesados por model.postprocess()\n",
        "\n",
        "\n",
        "\n"
      ]
    },
    {
      "cell_type": "code",
      "execution_count": null,
      "metadata": {
        "id": "CxJTUZWgk_4D"
      },
      "outputs": [],
      "source": [
        "import os\n",
        "import pathlib\n",
        "\n",
        "# Clone the tensorflow models repository if it doesn't already exist\n",
        "if \"models\" in pathlib.Path.cwd().parts:\n",
        "  while \"models\" in pathlib.Path.cwd().parts:\n",
        "    os.chdir('..')\n",
        "elif not pathlib.Path('models').exists():\n",
        "  !git clone --depth 1 https://github.com/tensorflow/models"
      ]
    },
    {
      "cell_type": "markdown",
      "metadata": {
        "id": "3Wk5JuRlondg"
      },
      "source": [
        "#### 2.1. Using Object Detection API"
      ]
    },
    {
      "cell_type": "code",
      "execution_count": null,
      "metadata": {
        "colab": {
          "base_uri": "https://localhost:8080/"
        },
        "id": "ObCE-e4dnpcX",
        "outputId": "d7da485f-5d05-4513-8389-45cfe07d2ec6"
      },
      "outputs": [
        {
          "name": "stdout",
          "output_type": "stream",
          "text": [
            "Process is interrupted.\n"
          ]
        }
      ],
      "source": [
        "# Install the Object Detection API\n",
        "%%bash\n",
        "cd models/research/\n",
        "protoc object_detection/protos/*.proto --python_out=.\n",
        "cp object_detection/packages/tf2/setup.py .\n",
        "python -m pip install ."
      ]
    },
    {
      "cell_type": "code",
      "execution_count": null,
      "metadata": {
        "id": "crydCCJek_yr"
      },
      "outputs": [],
      "source": [
        "import matplotlib\n",
        "import matplotlib.pyplot as plt\n",
        "\n",
        "import os\n",
        "import random\n",
        "import io\n",
        "import imageio\n",
        "import glob\n",
        "import scipy.misc\n",
        "import numpy as np\n",
        "from six import BytesIO\n",
        "from PIL import Image, ImageDraw, ImageFont\n",
        "from IPython.display import display, Javascript\n",
        "from IPython.display import Image as IPyImage\n",
        "\n",
        "import tensorflow as tf\n",
        "\n",
        "from object_detection.utils import label_map_util\n",
        "from object_detection.utils import config_util\n",
        "from object_detection.utils import visualization_utils as viz_utils\n",
        "from object_detection.utils import colab_utils\n",
        "from object_detection.builders import model_builder\n",
        "\n",
        "%matplotlib inline"
      ]
    },
    {
      "cell_type": "code",
      "execution_count": null,
      "metadata": {
        "colab": {
          "base_uri": "https://localhost:8080/"
        },
        "id": "VJro8Tc0k_rg",
        "outputId": "239b1351-44b0-46e9-9b32-0b76c6694352"
      },
      "outputs": [
        {
          "name": "stdout",
          "output_type": "stream",
          "text": [
            "--2022-08-10 19:33:28--  http://download.tensorflow.org/models/object_detection/tf2/20200711/ssd_resnet50_v1_fpn_640x640_coco17_tpu-8.tar.gz\n",
            "Resolving download.tensorflow.org (download.tensorflow.org)... 74.125.68.128, 2404:6800:4003:c02::80\n",
            "Connecting to download.tensorflow.org (download.tensorflow.org)|74.125.68.128|:80... connected.\n",
            "HTTP request sent, awaiting response... 200 OK\n",
            "Length: 244817203 (233M) [application/x-tar]\n",
            "Saving to: ‘ssd_resnet50_v1_fpn_640x640_coco17_tpu-8.tar.gz.2’\n",
            "\n",
            "ssd_resnet50_v1_fpn 100%[===================>] 233.48M   277MB/s    in 0.8s    \n",
            "\n",
            "2022-08-10 19:33:29 (277 MB/s) - ‘ssd_resnet50_v1_fpn_640x640_coco17_tpu-8.tar.gz.2’ saved [244817203/244817203]\n",
            "\n",
            "mv: cannot move 'ssd_resnet50_v1_fpn_640x640_coco17_tpu-8/checkpoint' to 'models/research/object_detection/test_data/checkpoint': Directory not empty\n"
          ]
        }
      ],
      "source": [
        "#Descargar el checkpoint\n",
        "!wget http://download.tensorflow.org/models/object_detection/tf2/20200711/ssd_resnet50_v1_fpn_640x640_coco17_tpu-8.tar.gz\n",
        "#Descomprime la carpeta\n",
        "!tar -xf ssd_resnet50_v1_fpn_640x640_coco17_tpu-8.tar.gz\n",
        "#Mueve el checkpoint\n",
        "!mv ssd_resnet50_v1_fpn_640x640_coco17_tpu-8/checkpoint models/research/object_detection/test_data/"
      ]
    },
    {
      "cell_type": "code",
      "execution_count": null,
      "metadata": {
        "id": "bqgZPD-U6OUN"
      },
      "outputs": [],
      "source": [
        "config_path='/content/models/research/object_detection/configs/tf2/ssd_resnet50_v1_fpn_640x640_coco17_tpu-8.config'\n",
        "checkpoint_path='/content/models/research/object_detection/test_data/checkpoint/ckpt-0'\n",
        "\n",
        "'''Obtenemos la configuración del modelo para cambiarla'''\n",
        "\n",
        "configs=config_util.get_configs_from_pipeline_file(config_path)\n",
        "model_config=configs['model']\n",
        "model_config.ssd.num_classes=num_classes\n",
        "model_config.ssd.freeze_batchnorm=True\n",
        "model=model_builder.build(model_config=model_config,is_training=True)"
      ]
    },
    {
      "cell_type": "markdown",
      "metadata": {
        "id": "9y12VVTsfvEN"
      },
      "source": [
        "### 2.2 Checkpoint\n",
        "\n",
        "Actualizamos los valores pre entrenados y los colocamos en el nuetro."
      ]
    },
    {
      "cell_type": "code",
      "execution_count": null,
      "metadata": {
        "colab": {
          "base_uri": "https://localhost:8080/"
        },
        "id": "z1tELyz5ftdM",
        "outputId": "c040b8df-6f8a-48b8-b750-9a0b135b23c7"
      },
      "outputs": [
        {
          "data": {
            "text/plain": [
              "<tensorflow.python.training.tracking.util.CheckpointLoadStatus at 0x7f6db75ad5d0>"
            ]
          },
          "execution_count": 15,
          "metadata": {},
          "output_type": "execute_result"
        }
      ],
      "source": [
        "box_predictor_tmp = tf.compat.v2.train.Checkpoint(\n",
        "    _base_tower_layers_for_heads=model._box_predictor._base_tower_layers_for_heads,\n",
        "    _box_prediction_head=model._box_predictor._box_prediction_head,\n",
        "    )\n",
        "\n",
        "model_tmp = tf.compat.v2.train.Checkpoint(\n",
        "          _feature_extractor=model._feature_extractor,\n",
        "          _box_predictor=box_predictor_tmp)\n",
        "ckpt = tf.compat.v2.train.Checkpoint(model=model_tmp)\n",
        "ckpt.restore(checkpoint_path).expect_partial()"
      ]
    },
    {
      "cell_type": "code",
      "execution_count": null,
      "metadata": {
        "id": "ecEOPajjN1sP"
      },
      "outputs": [],
      "source": [
        "images,shapes=model.preprocess(tf.ones((1,640,640,3)))\n",
        "prediction_dict=model.predict(images,shapes)\n",
        "_=model.postprocess(prediction_dict,shapes)"
      ]
    },
    {
      "cell_type": "code",
      "execution_count": null,
      "metadata": {
        "colab": {
          "base_uri": "https://localhost:8080/"
        },
        "id": "S6--YAxudOBW",
        "outputId": "12b47abd-0a1e-44fe-ac89-179349950edd"
      },
      "outputs": [
        {
          "name": "stdout",
          "output_type": "stream",
          "text": [
            "WeightSharedConvolutionalBoxPredictor/WeightSharedConvolutionalBoxHead/BoxPredictor/kernel:0\n",
            "WeightSharedConvolutionalBoxPredictor/WeightSharedConvolutionalBoxHead/BoxPredictor/bias:0\n",
            "WeightSharedConvolutionalBoxPredictor/WeightSharedConvolutionalClassHead/ClassPredictor/kernel:0\n",
            "WeightSharedConvolutionalBoxPredictor/WeightSharedConvolutionalClassHead/ClassPredictor/bias:0\n",
            "WeightSharedConvolutionalBoxPredictor/BoxPredictionTower/conv2d_0/kernel:0\n",
            "WeightSharedConvolutionalBoxPredictor/BoxPredictionTower/conv2d_0/BatchNorm/feature_0/gamma:0\n",
            "WeightSharedConvolutionalBoxPredictor/BoxPredictionTower/conv2d_0/BatchNorm/feature_0/beta:0\n",
            "WeightSharedConvolutionalBoxPredictor/BoxPredictionTower/conv2d_1/kernel:0\n",
            "WeightSharedConvolutionalBoxPredictor/BoxPredictionTower/conv2d_1/BatchNorm/feature_0/gamma:0\n",
            "WeightSharedConvolutionalBoxPredictor/BoxPredictionTower/conv2d_1/BatchNorm/feature_0/beta:0\n",
            "WeightSharedConvolutionalBoxPredictor/BoxPredictionTower/conv2d_2/kernel:0\n",
            "WeightSharedConvolutionalBoxPredictor/BoxPredictionTower/conv2d_2/BatchNorm/feature_0/gamma:0\n",
            "WeightSharedConvolutionalBoxPredictor/BoxPredictionTower/conv2d_2/BatchNorm/feature_0/beta:0\n",
            "WeightSharedConvolutionalBoxPredictor/BoxPredictionTower/conv2d_3/kernel:0\n",
            "WeightSharedConvolutionalBoxPredictor/BoxPredictionTower/conv2d_3/BatchNorm/feature_0/gamma:0\n",
            "WeightSharedConvolutionalBoxPredictor/BoxPredictionTower/conv2d_3/BatchNorm/feature_0/beta:0\n",
            "WeightSharedConvolutionalBoxPredictor/BoxPredictionTower/conv2d_0/BatchNorm/feature_1/gamma:0\n",
            "WeightSharedConvolutionalBoxPredictor/BoxPredictionTower/conv2d_0/BatchNorm/feature_1/beta:0\n",
            "WeightSharedConvolutionalBoxPredictor/BoxPredictionTower/conv2d_1/BatchNorm/feature_1/gamma:0\n",
            "WeightSharedConvolutionalBoxPredictor/BoxPredictionTower/conv2d_1/BatchNorm/feature_1/beta:0\n",
            "WeightSharedConvolutionalBoxPredictor/BoxPredictionTower/conv2d_2/BatchNorm/feature_1/gamma:0\n",
            "WeightSharedConvolutionalBoxPredictor/BoxPredictionTower/conv2d_2/BatchNorm/feature_1/beta:0\n",
            "WeightSharedConvolutionalBoxPredictor/BoxPredictionTower/conv2d_3/BatchNorm/feature_1/gamma:0\n",
            "WeightSharedConvolutionalBoxPredictor/BoxPredictionTower/conv2d_3/BatchNorm/feature_1/beta:0\n",
            "WeightSharedConvolutionalBoxPredictor/BoxPredictionTower/conv2d_0/BatchNorm/feature_2/gamma:0\n",
            "WeightSharedConvolutionalBoxPredictor/BoxPredictionTower/conv2d_0/BatchNorm/feature_2/beta:0\n",
            "WeightSharedConvolutionalBoxPredictor/BoxPredictionTower/conv2d_1/BatchNorm/feature_2/gamma:0\n",
            "WeightSharedConvolutionalBoxPredictor/BoxPredictionTower/conv2d_1/BatchNorm/feature_2/beta:0\n",
            "WeightSharedConvolutionalBoxPredictor/BoxPredictionTower/conv2d_2/BatchNorm/feature_2/gamma:0\n",
            "WeightSharedConvolutionalBoxPredictor/BoxPredictionTower/conv2d_2/BatchNorm/feature_2/beta:0\n",
            "WeightSharedConvolutionalBoxPredictor/BoxPredictionTower/conv2d_3/BatchNorm/feature_2/gamma:0\n",
            "WeightSharedConvolutionalBoxPredictor/BoxPredictionTower/conv2d_3/BatchNorm/feature_2/beta:0\n",
            "WeightSharedConvolutionalBoxPredictor/BoxPredictionTower/conv2d_0/BatchNorm/feature_3/gamma:0\n",
            "WeightSharedConvolutionalBoxPredictor/BoxPredictionTower/conv2d_0/BatchNorm/feature_3/beta:0\n",
            "WeightSharedConvolutionalBoxPredictor/BoxPredictionTower/conv2d_1/BatchNorm/feature_3/gamma:0\n",
            "WeightSharedConvolutionalBoxPredictor/BoxPredictionTower/conv2d_1/BatchNorm/feature_3/beta:0\n",
            "WeightSharedConvolutionalBoxPredictor/BoxPredictionTower/conv2d_2/BatchNorm/feature_3/gamma:0\n",
            "WeightSharedConvolutionalBoxPredictor/BoxPredictionTower/conv2d_2/BatchNorm/feature_3/beta:0\n",
            "WeightSharedConvolutionalBoxPredictor/BoxPredictionTower/conv2d_3/BatchNorm/feature_3/gamma:0\n",
            "WeightSharedConvolutionalBoxPredictor/BoxPredictionTower/conv2d_3/BatchNorm/feature_3/beta:0\n",
            "WeightSharedConvolutionalBoxPredictor/BoxPredictionTower/conv2d_0/BatchNorm/feature_4/gamma:0\n",
            "WeightSharedConvolutionalBoxPredictor/BoxPredictionTower/conv2d_0/BatchNorm/feature_4/beta:0\n",
            "WeightSharedConvolutionalBoxPredictor/BoxPredictionTower/conv2d_1/BatchNorm/feature_4/gamma:0\n",
            "WeightSharedConvolutionalBoxPredictor/BoxPredictionTower/conv2d_1/BatchNorm/feature_4/beta:0\n",
            "WeightSharedConvolutionalBoxPredictor/BoxPredictionTower/conv2d_2/BatchNorm/feature_4/gamma:0\n",
            "WeightSharedConvolutionalBoxPredictor/BoxPredictionTower/conv2d_2/BatchNorm/feature_4/beta:0\n",
            "WeightSharedConvolutionalBoxPredictor/BoxPredictionTower/conv2d_3/BatchNorm/feature_4/gamma:0\n",
            "WeightSharedConvolutionalBoxPredictor/BoxPredictionTower/conv2d_3/BatchNorm/feature_4/beta:0\n",
            "WeightSharedConvolutionalBoxPredictor/ClassPredictionTower/conv2d_0/kernel:0\n",
            "WeightSharedConvolutionalBoxPredictor/ClassPredictionTower/conv2d_0/BatchNorm/feature_0/gamma:0\n",
            "WeightSharedConvolutionalBoxPredictor/ClassPredictionTower/conv2d_0/BatchNorm/feature_0/beta:0\n",
            "WeightSharedConvolutionalBoxPredictor/ClassPredictionTower/conv2d_1/kernel:0\n",
            "WeightSharedConvolutionalBoxPredictor/ClassPredictionTower/conv2d_1/BatchNorm/feature_0/gamma:0\n",
            "WeightSharedConvolutionalBoxPredictor/ClassPredictionTower/conv2d_1/BatchNorm/feature_0/beta:0\n",
            "WeightSharedConvolutionalBoxPredictor/ClassPredictionTower/conv2d_2/kernel:0\n",
            "WeightSharedConvolutionalBoxPredictor/ClassPredictionTower/conv2d_2/BatchNorm/feature_0/gamma:0\n",
            "WeightSharedConvolutionalBoxPredictor/ClassPredictionTower/conv2d_2/BatchNorm/feature_0/beta:0\n",
            "WeightSharedConvolutionalBoxPredictor/ClassPredictionTower/conv2d_3/kernel:0\n",
            "WeightSharedConvolutionalBoxPredictor/ClassPredictionTower/conv2d_3/BatchNorm/feature_0/gamma:0\n",
            "WeightSharedConvolutionalBoxPredictor/ClassPredictionTower/conv2d_3/BatchNorm/feature_0/beta:0\n",
            "WeightSharedConvolutionalBoxPredictor/ClassPredictionTower/conv2d_0/BatchNorm/feature_1/gamma:0\n",
            "WeightSharedConvolutionalBoxPredictor/ClassPredictionTower/conv2d_0/BatchNorm/feature_1/beta:0\n",
            "WeightSharedConvolutionalBoxPredictor/ClassPredictionTower/conv2d_1/BatchNorm/feature_1/gamma:0\n",
            "WeightSharedConvolutionalBoxPredictor/ClassPredictionTower/conv2d_1/BatchNorm/feature_1/beta:0\n",
            "WeightSharedConvolutionalBoxPredictor/ClassPredictionTower/conv2d_2/BatchNorm/feature_1/gamma:0\n",
            "WeightSharedConvolutionalBoxPredictor/ClassPredictionTower/conv2d_2/BatchNorm/feature_1/beta:0\n",
            "WeightSharedConvolutionalBoxPredictor/ClassPredictionTower/conv2d_3/BatchNorm/feature_1/gamma:0\n",
            "WeightSharedConvolutionalBoxPredictor/ClassPredictionTower/conv2d_3/BatchNorm/feature_1/beta:0\n",
            "WeightSharedConvolutionalBoxPredictor/ClassPredictionTower/conv2d_0/BatchNorm/feature_2/gamma:0\n",
            "WeightSharedConvolutionalBoxPredictor/ClassPredictionTower/conv2d_0/BatchNorm/feature_2/beta:0\n",
            "WeightSharedConvolutionalBoxPredictor/ClassPredictionTower/conv2d_1/BatchNorm/feature_2/gamma:0\n",
            "WeightSharedConvolutionalBoxPredictor/ClassPredictionTower/conv2d_1/BatchNorm/feature_2/beta:0\n",
            "WeightSharedConvolutionalBoxPredictor/ClassPredictionTower/conv2d_2/BatchNorm/feature_2/gamma:0\n",
            "WeightSharedConvolutionalBoxPredictor/ClassPredictionTower/conv2d_2/BatchNorm/feature_2/beta:0\n",
            "WeightSharedConvolutionalBoxPredictor/ClassPredictionTower/conv2d_3/BatchNorm/feature_2/gamma:0\n",
            "WeightSharedConvolutionalBoxPredictor/ClassPredictionTower/conv2d_3/BatchNorm/feature_2/beta:0\n",
            "WeightSharedConvolutionalBoxPredictor/ClassPredictionTower/conv2d_0/BatchNorm/feature_3/gamma:0\n",
            "WeightSharedConvolutionalBoxPredictor/ClassPredictionTower/conv2d_0/BatchNorm/feature_3/beta:0\n",
            "WeightSharedConvolutionalBoxPredictor/ClassPredictionTower/conv2d_1/BatchNorm/feature_3/gamma:0\n",
            "WeightSharedConvolutionalBoxPredictor/ClassPredictionTower/conv2d_1/BatchNorm/feature_3/beta:0\n",
            "WeightSharedConvolutionalBoxPredictor/ClassPredictionTower/conv2d_2/BatchNorm/feature_3/gamma:0\n",
            "WeightSharedConvolutionalBoxPredictor/ClassPredictionTower/conv2d_2/BatchNorm/feature_3/beta:0\n",
            "WeightSharedConvolutionalBoxPredictor/ClassPredictionTower/conv2d_3/BatchNorm/feature_3/gamma:0\n",
            "WeightSharedConvolutionalBoxPredictor/ClassPredictionTower/conv2d_3/BatchNorm/feature_3/beta:0\n",
            "WeightSharedConvolutionalBoxPredictor/ClassPredictionTower/conv2d_0/BatchNorm/feature_4/gamma:0\n",
            "WeightSharedConvolutionalBoxPredictor/ClassPredictionTower/conv2d_0/BatchNorm/feature_4/beta:0\n",
            "WeightSharedConvolutionalBoxPredictor/ClassPredictionTower/conv2d_1/BatchNorm/feature_4/gamma:0\n",
            "WeightSharedConvolutionalBoxPredictor/ClassPredictionTower/conv2d_1/BatchNorm/feature_4/beta:0\n",
            "WeightSharedConvolutionalBoxPredictor/ClassPredictionTower/conv2d_2/BatchNorm/feature_4/gamma:0\n",
            "WeightSharedConvolutionalBoxPredictor/ClassPredictionTower/conv2d_2/BatchNorm/feature_4/beta:0\n",
            "WeightSharedConvolutionalBoxPredictor/ClassPredictionTower/conv2d_3/BatchNorm/feature_4/gamma:0\n",
            "WeightSharedConvolutionalBoxPredictor/ClassPredictionTower/conv2d_3/BatchNorm/feature_4/beta:0\n",
            "ResNet50V1_FPN/bottom_up_block5_conv/kernel:0\n",
            "ResNet50V1_FPN/bottom_up_block5_batchnorm/gamma:0\n",
            "ResNet50V1_FPN/bottom_up_block5_batchnorm/beta:0\n",
            "ResNet50V1_FPN/bottom_up_block6_conv/kernel:0\n",
            "ResNet50V1_FPN/bottom_up_block6_batchnorm/gamma:0\n",
            "ResNet50V1_FPN/bottom_up_block6_batchnorm/beta:0\n",
            "conv1_conv/kernel:0\n",
            "conv1_bn/gamma:0\n",
            "conv1_bn/beta:0\n",
            "conv2_block1_1_conv/kernel:0\n",
            "conv2_block1_1_bn/gamma:0\n",
            "conv2_block1_1_bn/beta:0\n",
            "conv2_block1_2_conv/kernel:0\n",
            "conv2_block1_2_bn/gamma:0\n",
            "conv2_block1_2_bn/beta:0\n",
            "conv2_block1_0_conv/kernel:0\n",
            "conv2_block1_3_conv/kernel:0\n",
            "conv2_block1_0_bn/gamma:0\n",
            "conv2_block1_0_bn/beta:0\n",
            "conv2_block1_3_bn/gamma:0\n",
            "conv2_block1_3_bn/beta:0\n",
            "conv2_block2_1_conv/kernel:0\n",
            "conv2_block2_1_bn/gamma:0\n",
            "conv2_block2_1_bn/beta:0\n",
            "conv2_block2_2_conv/kernel:0\n",
            "conv2_block2_2_bn/gamma:0\n",
            "conv2_block2_2_bn/beta:0\n",
            "conv2_block2_3_conv/kernel:0\n",
            "conv2_block2_3_bn/gamma:0\n",
            "conv2_block2_3_bn/beta:0\n",
            "conv2_block3_1_conv/kernel:0\n",
            "conv2_block3_1_bn/gamma:0\n",
            "conv2_block3_1_bn/beta:0\n",
            "conv2_block3_2_conv/kernel:0\n",
            "conv2_block3_2_bn/gamma:0\n",
            "conv2_block3_2_bn/beta:0\n",
            "conv2_block3_3_conv/kernel:0\n",
            "conv2_block3_3_bn/gamma:0\n",
            "conv2_block3_3_bn/beta:0\n",
            "conv3_block1_1_conv/kernel:0\n",
            "conv3_block1_1_bn/gamma:0\n",
            "conv3_block1_1_bn/beta:0\n",
            "conv3_block1_2_conv/kernel:0\n",
            "conv3_block1_2_bn/gamma:0\n",
            "conv3_block1_2_bn/beta:0\n",
            "conv3_block1_0_conv/kernel:0\n",
            "conv3_block1_3_conv/kernel:0\n",
            "conv3_block1_0_bn/gamma:0\n",
            "conv3_block1_0_bn/beta:0\n",
            "conv3_block1_3_bn/gamma:0\n",
            "conv3_block1_3_bn/beta:0\n",
            "conv3_block2_1_conv/kernel:0\n",
            "conv3_block2_1_bn/gamma:0\n",
            "conv3_block2_1_bn/beta:0\n",
            "conv3_block2_2_conv/kernel:0\n",
            "conv3_block2_2_bn/gamma:0\n",
            "conv3_block2_2_bn/beta:0\n",
            "conv3_block2_3_conv/kernel:0\n",
            "conv3_block2_3_bn/gamma:0\n",
            "conv3_block2_3_bn/beta:0\n",
            "conv3_block3_1_conv/kernel:0\n",
            "conv3_block3_1_bn/gamma:0\n",
            "conv3_block3_1_bn/beta:0\n",
            "conv3_block3_2_conv/kernel:0\n",
            "conv3_block3_2_bn/gamma:0\n",
            "conv3_block3_2_bn/beta:0\n",
            "conv3_block3_3_conv/kernel:0\n",
            "conv3_block3_3_bn/gamma:0\n",
            "conv3_block3_3_bn/beta:0\n",
            "conv3_block4_1_conv/kernel:0\n",
            "conv3_block4_1_bn/gamma:0\n",
            "conv3_block4_1_bn/beta:0\n",
            "conv3_block4_2_conv/kernel:0\n",
            "conv3_block4_2_bn/gamma:0\n",
            "conv3_block4_2_bn/beta:0\n",
            "conv3_block4_3_conv/kernel:0\n",
            "conv3_block4_3_bn/gamma:0\n",
            "conv3_block4_3_bn/beta:0\n",
            "conv4_block1_1_conv/kernel:0\n",
            "conv4_block1_1_bn/gamma:0\n",
            "conv4_block1_1_bn/beta:0\n",
            "conv4_block1_2_conv/kernel:0\n",
            "conv4_block1_2_bn/gamma:0\n",
            "conv4_block1_2_bn/beta:0\n",
            "conv4_block1_0_conv/kernel:0\n",
            "conv4_block1_3_conv/kernel:0\n",
            "conv4_block1_0_bn/gamma:0\n",
            "conv4_block1_0_bn/beta:0\n",
            "conv4_block1_3_bn/gamma:0\n",
            "conv4_block1_3_bn/beta:0\n",
            "conv4_block2_1_conv/kernel:0\n",
            "conv4_block2_1_bn/gamma:0\n",
            "conv4_block2_1_bn/beta:0\n",
            "conv4_block2_2_conv/kernel:0\n",
            "conv4_block2_2_bn/gamma:0\n",
            "conv4_block2_2_bn/beta:0\n",
            "conv4_block2_3_conv/kernel:0\n",
            "conv4_block2_3_bn/gamma:0\n",
            "conv4_block2_3_bn/beta:0\n",
            "conv4_block3_1_conv/kernel:0\n",
            "conv4_block3_1_bn/gamma:0\n",
            "conv4_block3_1_bn/beta:0\n",
            "conv4_block3_2_conv/kernel:0\n",
            "conv4_block3_2_bn/gamma:0\n",
            "conv4_block3_2_bn/beta:0\n",
            "conv4_block3_3_conv/kernel:0\n",
            "conv4_block3_3_bn/gamma:0\n",
            "conv4_block3_3_bn/beta:0\n",
            "conv4_block4_1_conv/kernel:0\n",
            "conv4_block4_1_bn/gamma:0\n",
            "conv4_block4_1_bn/beta:0\n",
            "conv4_block4_2_conv/kernel:0\n",
            "conv4_block4_2_bn/gamma:0\n",
            "conv4_block4_2_bn/beta:0\n",
            "conv4_block4_3_conv/kernel:0\n",
            "conv4_block4_3_bn/gamma:0\n",
            "conv4_block4_3_bn/beta:0\n",
            "conv4_block5_1_conv/kernel:0\n",
            "conv4_block5_1_bn/gamma:0\n",
            "conv4_block5_1_bn/beta:0\n",
            "conv4_block5_2_conv/kernel:0\n",
            "conv4_block5_2_bn/gamma:0\n",
            "conv4_block5_2_bn/beta:0\n",
            "conv4_block5_3_conv/kernel:0\n",
            "conv4_block5_3_bn/gamma:0\n",
            "conv4_block5_3_bn/beta:0\n",
            "conv4_block6_1_conv/kernel:0\n",
            "conv4_block6_1_bn/gamma:0\n",
            "conv4_block6_1_bn/beta:0\n",
            "conv4_block6_2_conv/kernel:0\n",
            "conv4_block6_2_bn/gamma:0\n",
            "conv4_block6_2_bn/beta:0\n",
            "conv4_block6_3_conv/kernel:0\n",
            "conv4_block6_3_bn/gamma:0\n",
            "conv4_block6_3_bn/beta:0\n",
            "conv5_block1_1_conv/kernel:0\n",
            "conv5_block1_1_bn/gamma:0\n",
            "conv5_block1_1_bn/beta:0\n",
            "conv5_block1_2_conv/kernel:0\n",
            "conv5_block1_2_bn/gamma:0\n",
            "conv5_block1_2_bn/beta:0\n",
            "conv5_block1_0_conv/kernel:0\n",
            "conv5_block1_3_conv/kernel:0\n",
            "conv5_block1_0_bn/gamma:0\n",
            "conv5_block1_0_bn/beta:0\n",
            "conv5_block1_3_bn/gamma:0\n",
            "conv5_block1_3_bn/beta:0\n",
            "conv5_block2_1_conv/kernel:0\n",
            "conv5_block2_1_bn/gamma:0\n",
            "conv5_block2_1_bn/beta:0\n",
            "conv5_block2_2_conv/kernel:0\n",
            "conv5_block2_2_bn/gamma:0\n",
            "conv5_block2_2_bn/beta:0\n",
            "conv5_block2_3_conv/kernel:0\n",
            "conv5_block2_3_bn/gamma:0\n",
            "conv5_block2_3_bn/beta:0\n",
            "conv5_block3_1_conv/kernel:0\n",
            "conv5_block3_1_bn/gamma:0\n",
            "conv5_block3_1_bn/beta:0\n",
            "conv5_block3_2_conv/kernel:0\n",
            "conv5_block3_2_bn/gamma:0\n",
            "conv5_block3_2_bn/beta:0\n",
            "conv5_block3_3_conv/kernel:0\n",
            "conv5_block3_3_bn/gamma:0\n",
            "conv5_block3_3_bn/beta:0\n",
            "ResNet50V1_FPN/FeatureMaps/top_down/projection_3/kernel:0\n",
            "ResNet50V1_FPN/FeatureMaps/top_down/projection_3/bias:0\n",
            "ResNet50V1_FPN/FeatureMaps/top_down/projection_2/kernel:0\n",
            "ResNet50V1_FPN/FeatureMaps/top_down/projection_2/bias:0\n",
            "ResNet50V1_FPN/FeatureMaps/top_down/projection_1/kernel:0\n",
            "ResNet50V1_FPN/FeatureMaps/top_down/projection_1/bias:0\n",
            "ResNet50V1_FPN/FeatureMaps/top_down/smoothing_2_conv/kernel:0\n",
            "ResNet50V1_FPN/FeatureMaps/top_down/smoothing_2_batchnorm/gamma:0\n",
            "ResNet50V1_FPN/FeatureMaps/top_down/smoothing_2_batchnorm/beta:0\n",
            "ResNet50V1_FPN/FeatureMaps/top_down/smoothing_1_conv/kernel:0\n",
            "ResNet50V1_FPN/FeatureMaps/top_down/smoothing_1_batchnorm/gamma:0\n",
            "ResNet50V1_FPN/FeatureMaps/top_down/smoothing_1_batchnorm/beta:0\n",
            "WeightSharedConvolutionalBoxPredictor/BoxPredictionTower/conv2d_0/BatchNorm/feature_0/moving_mean:0\n",
            "WeightSharedConvolutionalBoxPredictor/BoxPredictionTower/conv2d_0/BatchNorm/feature_0/moving_variance:0\n",
            "WeightSharedConvolutionalBoxPredictor/BoxPredictionTower/conv2d_1/BatchNorm/feature_0/moving_mean:0\n",
            "WeightSharedConvolutionalBoxPredictor/BoxPredictionTower/conv2d_1/BatchNorm/feature_0/moving_variance:0\n",
            "WeightSharedConvolutionalBoxPredictor/BoxPredictionTower/conv2d_2/BatchNorm/feature_0/moving_mean:0\n",
            "WeightSharedConvolutionalBoxPredictor/BoxPredictionTower/conv2d_2/BatchNorm/feature_0/moving_variance:0\n",
            "WeightSharedConvolutionalBoxPredictor/BoxPredictionTower/conv2d_3/BatchNorm/feature_0/moving_mean:0\n",
            "WeightSharedConvolutionalBoxPredictor/BoxPredictionTower/conv2d_3/BatchNorm/feature_0/moving_variance:0\n",
            "WeightSharedConvolutionalBoxPredictor/BoxPredictionTower/conv2d_0/BatchNorm/feature_1/moving_mean:0\n",
            "WeightSharedConvolutionalBoxPredictor/BoxPredictionTower/conv2d_0/BatchNorm/feature_1/moving_variance:0\n",
            "WeightSharedConvolutionalBoxPredictor/BoxPredictionTower/conv2d_1/BatchNorm/feature_1/moving_mean:0\n",
            "WeightSharedConvolutionalBoxPredictor/BoxPredictionTower/conv2d_1/BatchNorm/feature_1/moving_variance:0\n",
            "WeightSharedConvolutionalBoxPredictor/BoxPredictionTower/conv2d_2/BatchNorm/feature_1/moving_mean:0\n",
            "WeightSharedConvolutionalBoxPredictor/BoxPredictionTower/conv2d_2/BatchNorm/feature_1/moving_variance:0\n",
            "WeightSharedConvolutionalBoxPredictor/BoxPredictionTower/conv2d_3/BatchNorm/feature_1/moving_mean:0\n",
            "WeightSharedConvolutionalBoxPredictor/BoxPredictionTower/conv2d_3/BatchNorm/feature_1/moving_variance:0\n",
            "WeightSharedConvolutionalBoxPredictor/BoxPredictionTower/conv2d_0/BatchNorm/feature_2/moving_mean:0\n",
            "WeightSharedConvolutionalBoxPredictor/BoxPredictionTower/conv2d_0/BatchNorm/feature_2/moving_variance:0\n",
            "WeightSharedConvolutionalBoxPredictor/BoxPredictionTower/conv2d_1/BatchNorm/feature_2/moving_mean:0\n",
            "WeightSharedConvolutionalBoxPredictor/BoxPredictionTower/conv2d_1/BatchNorm/feature_2/moving_variance:0\n",
            "WeightSharedConvolutionalBoxPredictor/BoxPredictionTower/conv2d_2/BatchNorm/feature_2/moving_mean:0\n",
            "WeightSharedConvolutionalBoxPredictor/BoxPredictionTower/conv2d_2/BatchNorm/feature_2/moving_variance:0\n",
            "WeightSharedConvolutionalBoxPredictor/BoxPredictionTower/conv2d_3/BatchNorm/feature_2/moving_mean:0\n",
            "WeightSharedConvolutionalBoxPredictor/BoxPredictionTower/conv2d_3/BatchNorm/feature_2/moving_variance:0\n",
            "WeightSharedConvolutionalBoxPredictor/BoxPredictionTower/conv2d_0/BatchNorm/feature_3/moving_mean:0\n",
            "WeightSharedConvolutionalBoxPredictor/BoxPredictionTower/conv2d_0/BatchNorm/feature_3/moving_variance:0\n",
            "WeightSharedConvolutionalBoxPredictor/BoxPredictionTower/conv2d_1/BatchNorm/feature_3/moving_mean:0\n",
            "WeightSharedConvolutionalBoxPredictor/BoxPredictionTower/conv2d_1/BatchNorm/feature_3/moving_variance:0\n",
            "WeightSharedConvolutionalBoxPredictor/BoxPredictionTower/conv2d_2/BatchNorm/feature_3/moving_mean:0\n",
            "WeightSharedConvolutionalBoxPredictor/BoxPredictionTower/conv2d_2/BatchNorm/feature_3/moving_variance:0\n",
            "WeightSharedConvolutionalBoxPredictor/BoxPredictionTower/conv2d_3/BatchNorm/feature_3/moving_mean:0\n",
            "WeightSharedConvolutionalBoxPredictor/BoxPredictionTower/conv2d_3/BatchNorm/feature_3/moving_variance:0\n",
            "WeightSharedConvolutionalBoxPredictor/BoxPredictionTower/conv2d_0/BatchNorm/feature_4/moving_mean:0\n",
            "WeightSharedConvolutionalBoxPredictor/BoxPredictionTower/conv2d_0/BatchNorm/feature_4/moving_variance:0\n",
            "WeightSharedConvolutionalBoxPredictor/BoxPredictionTower/conv2d_1/BatchNorm/feature_4/moving_mean:0\n",
            "WeightSharedConvolutionalBoxPredictor/BoxPredictionTower/conv2d_1/BatchNorm/feature_4/moving_variance:0\n",
            "WeightSharedConvolutionalBoxPredictor/BoxPredictionTower/conv2d_2/BatchNorm/feature_4/moving_mean:0\n",
            "WeightSharedConvolutionalBoxPredictor/BoxPredictionTower/conv2d_2/BatchNorm/feature_4/moving_variance:0\n",
            "WeightSharedConvolutionalBoxPredictor/BoxPredictionTower/conv2d_3/BatchNorm/feature_4/moving_mean:0\n",
            "WeightSharedConvolutionalBoxPredictor/BoxPredictionTower/conv2d_3/BatchNorm/feature_4/moving_variance:0\n",
            "WeightSharedConvolutionalBoxPredictor/ClassPredictionTower/conv2d_0/BatchNorm/feature_0/moving_mean:0\n",
            "WeightSharedConvolutionalBoxPredictor/ClassPredictionTower/conv2d_0/BatchNorm/feature_0/moving_variance:0\n",
            "WeightSharedConvolutionalBoxPredictor/ClassPredictionTower/conv2d_1/BatchNorm/feature_0/moving_mean:0\n",
            "WeightSharedConvolutionalBoxPredictor/ClassPredictionTower/conv2d_1/BatchNorm/feature_0/moving_variance:0\n",
            "WeightSharedConvolutionalBoxPredictor/ClassPredictionTower/conv2d_2/BatchNorm/feature_0/moving_mean:0\n",
            "WeightSharedConvolutionalBoxPredictor/ClassPredictionTower/conv2d_2/BatchNorm/feature_0/moving_variance:0\n",
            "WeightSharedConvolutionalBoxPredictor/ClassPredictionTower/conv2d_3/BatchNorm/feature_0/moving_mean:0\n",
            "WeightSharedConvolutionalBoxPredictor/ClassPredictionTower/conv2d_3/BatchNorm/feature_0/moving_variance:0\n",
            "WeightSharedConvolutionalBoxPredictor/ClassPredictionTower/conv2d_0/BatchNorm/feature_1/moving_mean:0\n",
            "WeightSharedConvolutionalBoxPredictor/ClassPredictionTower/conv2d_0/BatchNorm/feature_1/moving_variance:0\n",
            "WeightSharedConvolutionalBoxPredictor/ClassPredictionTower/conv2d_1/BatchNorm/feature_1/moving_mean:0\n",
            "WeightSharedConvolutionalBoxPredictor/ClassPredictionTower/conv2d_1/BatchNorm/feature_1/moving_variance:0\n",
            "WeightSharedConvolutionalBoxPredictor/ClassPredictionTower/conv2d_2/BatchNorm/feature_1/moving_mean:0\n",
            "WeightSharedConvolutionalBoxPredictor/ClassPredictionTower/conv2d_2/BatchNorm/feature_1/moving_variance:0\n",
            "WeightSharedConvolutionalBoxPredictor/ClassPredictionTower/conv2d_3/BatchNorm/feature_1/moving_mean:0\n",
            "WeightSharedConvolutionalBoxPredictor/ClassPredictionTower/conv2d_3/BatchNorm/feature_1/moving_variance:0\n",
            "WeightSharedConvolutionalBoxPredictor/ClassPredictionTower/conv2d_0/BatchNorm/feature_2/moving_mean:0\n",
            "WeightSharedConvolutionalBoxPredictor/ClassPredictionTower/conv2d_0/BatchNorm/feature_2/moving_variance:0\n",
            "WeightSharedConvolutionalBoxPredictor/ClassPredictionTower/conv2d_1/BatchNorm/feature_2/moving_mean:0\n",
            "WeightSharedConvolutionalBoxPredictor/ClassPredictionTower/conv2d_1/BatchNorm/feature_2/moving_variance:0\n",
            "WeightSharedConvolutionalBoxPredictor/ClassPredictionTower/conv2d_2/BatchNorm/feature_2/moving_mean:0\n",
            "WeightSharedConvolutionalBoxPredictor/ClassPredictionTower/conv2d_2/BatchNorm/feature_2/moving_variance:0\n",
            "WeightSharedConvolutionalBoxPredictor/ClassPredictionTower/conv2d_3/BatchNorm/feature_2/moving_mean:0\n",
            "WeightSharedConvolutionalBoxPredictor/ClassPredictionTower/conv2d_3/BatchNorm/feature_2/moving_variance:0\n",
            "WeightSharedConvolutionalBoxPredictor/ClassPredictionTower/conv2d_0/BatchNorm/feature_3/moving_mean:0\n",
            "WeightSharedConvolutionalBoxPredictor/ClassPredictionTower/conv2d_0/BatchNorm/feature_3/moving_variance:0\n",
            "WeightSharedConvolutionalBoxPredictor/ClassPredictionTower/conv2d_1/BatchNorm/feature_3/moving_mean:0\n",
            "WeightSharedConvolutionalBoxPredictor/ClassPredictionTower/conv2d_1/BatchNorm/feature_3/moving_variance:0\n",
            "WeightSharedConvolutionalBoxPredictor/ClassPredictionTower/conv2d_2/BatchNorm/feature_3/moving_mean:0\n",
            "WeightSharedConvolutionalBoxPredictor/ClassPredictionTower/conv2d_2/BatchNorm/feature_3/moving_variance:0\n",
            "WeightSharedConvolutionalBoxPredictor/ClassPredictionTower/conv2d_3/BatchNorm/feature_3/moving_mean:0\n",
            "WeightSharedConvolutionalBoxPredictor/ClassPredictionTower/conv2d_3/BatchNorm/feature_3/moving_variance:0\n",
            "WeightSharedConvolutionalBoxPredictor/ClassPredictionTower/conv2d_0/BatchNorm/feature_4/moving_mean:0\n",
            "WeightSharedConvolutionalBoxPredictor/ClassPredictionTower/conv2d_0/BatchNorm/feature_4/moving_variance:0\n",
            "WeightSharedConvolutionalBoxPredictor/ClassPredictionTower/conv2d_1/BatchNorm/feature_4/moving_mean:0\n",
            "WeightSharedConvolutionalBoxPredictor/ClassPredictionTower/conv2d_1/BatchNorm/feature_4/moving_variance:0\n",
            "WeightSharedConvolutionalBoxPredictor/ClassPredictionTower/conv2d_2/BatchNorm/feature_4/moving_mean:0\n",
            "WeightSharedConvolutionalBoxPredictor/ClassPredictionTower/conv2d_2/BatchNorm/feature_4/moving_variance:0\n",
            "WeightSharedConvolutionalBoxPredictor/ClassPredictionTower/conv2d_3/BatchNorm/feature_4/moving_mean:0\n",
            "WeightSharedConvolutionalBoxPredictor/ClassPredictionTower/conv2d_3/BatchNorm/feature_4/moving_variance:0\n",
            "ResNet50V1_FPN/bottom_up_block5_batchnorm/moving_mean:0\n",
            "ResNet50V1_FPN/bottom_up_block5_batchnorm/moving_variance:0\n",
            "ResNet50V1_FPN/bottom_up_block6_batchnorm/moving_mean:0\n",
            "ResNet50V1_FPN/bottom_up_block6_batchnorm/moving_variance:0\n",
            "conv1_bn/moving_mean:0\n",
            "conv1_bn/moving_variance:0\n",
            "conv2_block1_1_bn/moving_mean:0\n",
            "conv2_block1_1_bn/moving_variance:0\n",
            "conv2_block1_2_bn/moving_mean:0\n",
            "conv2_block1_2_bn/moving_variance:0\n",
            "conv2_block1_0_bn/moving_mean:0\n",
            "conv2_block1_0_bn/moving_variance:0\n",
            "conv2_block1_3_bn/moving_mean:0\n",
            "conv2_block1_3_bn/moving_variance:0\n",
            "conv2_block2_1_bn/moving_mean:0\n",
            "conv2_block2_1_bn/moving_variance:0\n",
            "conv2_block2_2_bn/moving_mean:0\n",
            "conv2_block2_2_bn/moving_variance:0\n",
            "conv2_block2_3_bn/moving_mean:0\n",
            "conv2_block2_3_bn/moving_variance:0\n",
            "conv2_block3_1_bn/moving_mean:0\n",
            "conv2_block3_1_bn/moving_variance:0\n",
            "conv2_block3_2_bn/moving_mean:0\n",
            "conv2_block3_2_bn/moving_variance:0\n",
            "conv2_block3_3_bn/moving_mean:0\n",
            "conv2_block3_3_bn/moving_variance:0\n",
            "conv3_block1_1_bn/moving_mean:0\n",
            "conv3_block1_1_bn/moving_variance:0\n",
            "conv3_block1_2_bn/moving_mean:0\n",
            "conv3_block1_2_bn/moving_variance:0\n",
            "conv3_block1_0_bn/moving_mean:0\n",
            "conv3_block1_0_bn/moving_variance:0\n",
            "conv3_block1_3_bn/moving_mean:0\n",
            "conv3_block1_3_bn/moving_variance:0\n",
            "conv3_block2_1_bn/moving_mean:0\n",
            "conv3_block2_1_bn/moving_variance:0\n",
            "conv3_block2_2_bn/moving_mean:0\n",
            "conv3_block2_2_bn/moving_variance:0\n",
            "conv3_block2_3_bn/moving_mean:0\n",
            "conv3_block2_3_bn/moving_variance:0\n",
            "conv3_block3_1_bn/moving_mean:0\n",
            "conv3_block3_1_bn/moving_variance:0\n",
            "conv3_block3_2_bn/moving_mean:0\n",
            "conv3_block3_2_bn/moving_variance:0\n",
            "conv3_block3_3_bn/moving_mean:0\n",
            "conv3_block3_3_bn/moving_variance:0\n",
            "conv3_block4_1_bn/moving_mean:0\n",
            "conv3_block4_1_bn/moving_variance:0\n",
            "conv3_block4_2_bn/moving_mean:0\n",
            "conv3_block4_2_bn/moving_variance:0\n",
            "conv3_block4_3_bn/moving_mean:0\n",
            "conv3_block4_3_bn/moving_variance:0\n",
            "conv4_block1_1_bn/moving_mean:0\n",
            "conv4_block1_1_bn/moving_variance:0\n",
            "conv4_block1_2_bn/moving_mean:0\n",
            "conv4_block1_2_bn/moving_variance:0\n",
            "conv4_block1_0_bn/moving_mean:0\n",
            "conv4_block1_0_bn/moving_variance:0\n",
            "conv4_block1_3_bn/moving_mean:0\n",
            "conv4_block1_3_bn/moving_variance:0\n",
            "conv4_block2_1_bn/moving_mean:0\n",
            "conv4_block2_1_bn/moving_variance:0\n",
            "conv4_block2_2_bn/moving_mean:0\n",
            "conv4_block2_2_bn/moving_variance:0\n",
            "conv4_block2_3_bn/moving_mean:0\n",
            "conv4_block2_3_bn/moving_variance:0\n",
            "conv4_block3_1_bn/moving_mean:0\n",
            "conv4_block3_1_bn/moving_variance:0\n",
            "conv4_block3_2_bn/moving_mean:0\n",
            "conv4_block3_2_bn/moving_variance:0\n",
            "conv4_block3_3_bn/moving_mean:0\n",
            "conv4_block3_3_bn/moving_variance:0\n",
            "conv4_block4_1_bn/moving_mean:0\n",
            "conv4_block4_1_bn/moving_variance:0\n",
            "conv4_block4_2_bn/moving_mean:0\n",
            "conv4_block4_2_bn/moving_variance:0\n",
            "conv4_block4_3_bn/moving_mean:0\n",
            "conv4_block4_3_bn/moving_variance:0\n",
            "conv4_block5_1_bn/moving_mean:0\n",
            "conv4_block5_1_bn/moving_variance:0\n",
            "conv4_block5_2_bn/moving_mean:0\n",
            "conv4_block5_2_bn/moving_variance:0\n",
            "conv4_block5_3_bn/moving_mean:0\n",
            "conv4_block5_3_bn/moving_variance:0\n",
            "conv4_block6_1_bn/moving_mean:0\n",
            "conv4_block6_1_bn/moving_variance:0\n",
            "conv4_block6_2_bn/moving_mean:0\n",
            "conv4_block6_2_bn/moving_variance:0\n",
            "conv4_block6_3_bn/moving_mean:0\n",
            "conv4_block6_3_bn/moving_variance:0\n",
            "conv5_block1_1_bn/moving_mean:0\n",
            "conv5_block1_1_bn/moving_variance:0\n",
            "conv5_block1_2_bn/moving_mean:0\n",
            "conv5_block1_2_bn/moving_variance:0\n",
            "conv5_block1_0_bn/moving_mean:0\n",
            "conv5_block1_0_bn/moving_variance:0\n",
            "conv5_block1_3_bn/moving_mean:0\n",
            "conv5_block1_3_bn/moving_variance:0\n",
            "conv5_block2_1_bn/moving_mean:0\n",
            "conv5_block2_1_bn/moving_variance:0\n",
            "conv5_block2_2_bn/moving_mean:0\n",
            "conv5_block2_2_bn/moving_variance:0\n",
            "conv5_block2_3_bn/moving_mean:0\n",
            "conv5_block2_3_bn/moving_variance:0\n",
            "conv5_block3_1_bn/moving_mean:0\n",
            "conv5_block3_1_bn/moving_variance:0\n",
            "conv5_block3_2_bn/moving_mean:0\n",
            "conv5_block3_2_bn/moving_variance:0\n",
            "conv5_block3_3_bn/moving_mean:0\n",
            "conv5_block3_3_bn/moving_variance:0\n",
            "ResNet50V1_FPN/FeatureMaps/top_down/smoothing_2_batchnorm/moving_mean:0\n",
            "ResNet50V1_FPN/FeatureMaps/top_down/smoothing_2_batchnorm/moving_variance:0\n",
            "ResNet50V1_FPN/FeatureMaps/top_down/smoothing_1_batchnorm/moving_mean:0\n",
            "ResNet50V1_FPN/FeatureMaps/top_down/smoothing_1_batchnorm/moving_variance:0\n"
          ]
        }
      ],
      "source": [
        "'''Miremos las variables'''\n",
        "\n",
        "for i in model.variables:\n",
        "  print(i.name)"
      ]
    },
    {
      "cell_type": "markdown",
      "metadata": {
        "id": "k3WzZr-Qe1A3"
      },
      "source": [
        "#### 2.3 Training\n",
        "\n",
        "Solo necesitamos entrenar algunas variables del modelo, ya que utilizaremos pesos pre entrenados."
      ]
    },
    {
      "cell_type": "code",
      "execution_count": null,
      "metadata": {
        "id": "Hy-omUiIe0aU"
      },
      "outputs": [],
      "source": [
        "prefixes_to_train = [\n",
        "  'WeightSharedConvolutionalBoxPredictor/WeightSharedConvolutionalBoxHead',\n",
        "  'WeightSharedConvolutionalBoxPredictor/WeightSharedConvolutionalClassHead']\n",
        "\n",
        "trainable_variables = model.trainable_variables\n",
        "to_fine_tune = []\n",
        "\n",
        "for var in trainable_variables:\n",
        "  if any([var.name.startswith(prefix) for prefix in prefixes_to_train]):\n",
        "    to_fine_tune.append(var)"
      ]
    },
    {
      "cell_type": "code",
      "execution_count": null,
      "metadata": {
        "id": "WgdewOsNhOAC"
      },
      "outputs": [],
      "source": [
        "def get_train_step_func(model,vars_to_tune,optimizer):\n",
        "  @tf.function\n",
        "  def train_step_func(images,true_bboxes,true_labels):\n",
        "    model.provide_groundtruth(\n",
        "        groundtruth_boxes_list=true_bboxes,\n",
        "        groundtruth_classes_list=true_labels\n",
        "    )\n",
        "    with tf.GradientTape() as tape:\n",
        "      images,shapes=model.preprocess(images)\n",
        "      prediction_dict = model.predict(images, shapes)\n",
        "      losses_dict=model.loss(prediction_dict,shapes)\n",
        "      total_loss=losses_dict['Loss/localization_loss'] + losses_dict['Loss/classification_loss']\n",
        "      \n",
        "      grads=tape.gradient(total_loss,vars_to_tune)\n",
        "      optimizer.apply_gradients(zip(grads,vars_to_tune))\n",
        "\n",
        "    return total_loss  \n",
        "  return train_step_func  \n",
        "\n",
        "def get_val_func(model):\n",
        "  @tf.function\n",
        "  def validation_func(images,true_bboxes,true_labels):\n",
        "\n",
        "    model.provide_groundtruth(\n",
        "        groundtruth_boxes_list=true_bboxes,\n",
        "        groundtruth_classes_list=true_labels\n",
        "    )\n",
        "    images,shapes=model.preprocess(images)\n",
        "    prediction_dict = model.predict(images,shapes)\n",
        "    losses_dict=model.loss(prediction_dict,shapes)\n",
        "    total_loss=losses_dict['Loss/localization_loss'] + losses_dict['Loss/classification_loss']\n",
        "\n",
        "    return total_loss\n",
        "  return validation_func  "
      ]
    },
    {
      "cell_type": "code",
      "execution_count": null,
      "metadata": {
        "id": "Gc2LkJeWoNYn"
      },
      "outputs": [],
      "source": [
        "def train_on_ds(train_func,train_ds):\n",
        "  size_ds=len(train_ds)\n",
        "  total_loss=0\n",
        "  for k in range(size_ds):\n",
        "    img,shapes,bboxes,labels=train_ds[k]\n",
        "    labels=labels[:,np.newaxis]\n",
        "    bboxes=[bboxes[i][np.newaxis,:] for i in range(bboxes.shape[0])]\n",
        "    labels=[labels[i] for i in range(labels.shape[0])]\n",
        "    #print(bboxes)\n",
        "    #print(labels)\n",
        "    #print(img)\n",
        "    loss=train_func(img,bboxes,labels)\n",
        "    total_loss+=loss.numpy()\n",
        "\n",
        "  return total_loss/size_ds\n",
        "\n",
        "def val_on_ds(val_func,val_ds):\n",
        "  size_ds=len(val_ds)\n",
        "  total_loss=0\n",
        "  for k in range(size_ds):\n",
        "    img,shapes,bboxes,labels=val_ds[k]\n",
        "    labels=labels[:,np.newaxis]\n",
        "    bboxes=[bboxes[i][np.newaxis,:] for i in range(bboxes.shape[0])]\n",
        "    labels=[labels[i] for i in range(labels.shape[0])]\n",
        "    loss=val_func(img,bboxes,labels)\n",
        "    total_loss+=loss.numpy()\n",
        "\n",
        "  return total_loss/size_ds  "
      ]
    },
    {
      "cell_type": "code",
      "execution_count": null,
      "metadata": {
        "colab": {
          "base_uri": "https://localhost:8080/",
          "height": 1000
        },
        "id": "4KDLwCE33bUc",
        "outputId": "71a81d7a-ef4c-4952-b9f4-50061bd0b94c"
      },
      "outputs": [
        {
          "name": "stdout",
          "output_type": "stream",
          "text": [
            "epoch:1 train_loss:32.24824839253579 test_loss:25.383406804955523\n",
            "epoch:2 train_loss:26.79663607638369 test_loss:21.067432859669562\n",
            "epoch:3 train_loss:22.731467648219038 test_loss:20.366051238516103\n",
            "epoch:4 train_loss:20.628816401445736 test_loss:16.69978730574898\n",
            "epoch:5 train_loss:17.40990618351967 test_loss:14.378752998683764\n",
            "epoch:6 train_loss:16.0781513837076 test_loss:14.624593817669412\n",
            "epoch:7 train_loss:14.090056776359518 test_loss:13.258670081263004\n",
            "epoch:8 train_loss:12.700742403666178 test_loss:11.844239846519802\n",
            "epoch:9 train_loss:11.622859351096615 test_loss:11.707314242487369\n",
            "epoch:10 train_loss:10.848977268383067 test_loss:10.056466869685961\n",
            "epoch:11 train_loss:9.559083912962226 test_loss:9.48949702926304\n",
            "epoch:12 train_loss:8.50098821937397 test_loss:8.3236206666283\n",
            "epoch:13 train_loss:7.580881129028977 test_loss:8.088963731475499\n",
            "epoch:14 train_loss:7.000204342026865 test_loss:6.927606385687123\n",
            "epoch:15 train_loss:6.0425157457269645 test_loss:6.406337302664052\n",
            "epoch:16 train_loss:5.57260242777486 test_loss:6.621560428453528\n",
            "epoch:17 train_loss:5.734390812855895 test_loss:5.707810588504957\n",
            "epoch:18 train_loss:4.791910902146371 test_loss:5.453946098037388\n",
            "epoch:19 train_loss:4.611121654830953 test_loss:5.461603734804236\n",
            "epoch:20 train_loss:4.293685445862431 test_loss:4.820545315742493\n",
            "epoch:21 train_loss:3.9022758747300794 test_loss:4.597804963588715\n",
            "epoch:22 train_loss:3.831431048531686 test_loss:4.75525554885035\n",
            "epoch:23 train_loss:3.801319614533455 test_loss:4.504375657309657\n",
            "epoch:24 train_loss:3.4516775245948503 test_loss:4.157461609529412\n",
            "epoch:25 train_loss:3.174642366106792 test_loss:3.9971209686735403\n",
            "epoch:26 train_loss:3.0564726491769156 test_loss:3.781599767830061\n",
            "epoch:27 train_loss:2.882317054656244 test_loss:3.7269953800284346\n",
            "epoch:28 train_loss:2.8240999528156814 test_loss:3.5828362262767293\n",
            "epoch:29 train_loss:2.712846661767652 test_loss:3.557877595010011\n",
            "epoch:30 train_loss:2.633438585105763 test_loss:3.4621128051177315\n",
            "epoch:31 train_loss:2.5223964340584253 test_loss:3.5284315762312515\n",
            "epoch:32 train_loss:2.6137231501840774 test_loss:3.297997482444929\n",
            "epoch:33 train_loss:2.404493401768387 test_loss:3.410735791144164\n",
            "epoch:34 train_loss:2.3333023551010315 test_loss:3.042113130507262\n",
            "epoch:35 train_loss:2.405937691529592 test_loss:3.0995108925777934\n",
            "epoch:36 train_loss:2.330889485215628 test_loss:3.0761802792549133\n",
            "epoch:37 train_loss:2.0837402718682445 test_loss:3.0399463254472483\n",
            "epoch:38 train_loss:2.286842569388369 test_loss:3.067443521126457\n",
            "epoch:39 train_loss:2.107935161520076 test_loss:3.0203403908273447\n",
            "epoch:40 train_loss:1.8880106992619012 test_loss:2.884156048297882\n",
            "epoch:41 train_loss:1.9917880051559018 test_loss:2.960654878098032\n",
            "epoch:42 train_loss:1.8141507943791728 test_loss:2.901601016521454\n",
            "epoch:43 train_loss:1.80699954446285 test_loss:3.008658792661584\n",
            "epoch:44 train_loss:1.744007108512745 test_loss:2.816874051871507\n",
            "epoch:45 train_loss:1.7208217457737973 test_loss:2.8027122020721436\n",
            "epoch:46 train_loss:1.604491080167473 test_loss:2.730982184410095\n",
            "epoch:47 train_loss:1.6233798262252603 test_loss:2.7264225197874983\n",
            "epoch:48 train_loss:1.5444513716364419 test_loss:2.6832400612209155\n",
            "epoch:49 train_loss:1.4935319580698525 test_loss:2.728429086830305\n",
            "epoch:50 train_loss:1.4941208050135644 test_loss:2.709161426710046\n",
            "epoch:51 train_loss:1.4654509862584453 test_loss:2.5569531036459883\n",
            "epoch:52 train_loss:1.466385478614479 test_loss:2.6086401356303175\n",
            "epoch:53 train_loss:1.4015202809085128 test_loss:2.545821490495101\n",
            "epoch:54 train_loss:1.3497172110183264 test_loss:2.459702581167221\n",
            "epoch:55 train_loss:1.3205991643731312 test_loss:2.4795330257519432\n",
            "epoch:56 train_loss:1.2977788877743546 test_loss:2.413700756819352\n",
            "epoch:57 train_loss:1.2681692476554582 test_loss:2.379787363435911\n",
            "epoch:58 train_loss:1.2538952196157107 test_loss:2.414867084959279\n",
            "epoch:59 train_loss:1.2666222119844088 test_loss:2.375656809495843\n",
            "epoch:60 train_loss:1.2165514107352944 test_loss:2.39244628082151\n",
            "epoch:61 train_loss:1.2124219482303948 test_loss:2.3473629847816797\n",
            "epoch:62 train_loss:1.1753766579974083 test_loss:2.3388080415518386\n",
            "epoch:63 train_loss:1.1575738657866754 test_loss:2.329854129449181\n",
            "epoch:64 train_loss:1.1413462349484045 test_loss:2.2951962572077047\n"
          ]
        },
        {
          "ename": "KeyboardInterrupt",
          "evalue": "ignored",
          "output_type": "error",
          "traceback": [
            "\u001b[0;31m---------------------------------------------------------------------------\u001b[0m",
            "\u001b[0;31mKeyboardInterrupt\u001b[0m                         Traceback (most recent call last)",
            "\u001b[0;32m<ipython-input-21-50b358a55ed8>\u001b[0m in \u001b[0;36m<module>\u001b[0;34m()\u001b[0m\n\u001b[1;32m      7\u001b[0m \u001b[0;32mwith\u001b[0m \u001b[0mtf\u001b[0m\u001b[0;34m.\u001b[0m\u001b[0mdevice\u001b[0m\u001b[0;34m(\u001b[0m\u001b[0;34m'/GPU:0'\u001b[0m\u001b[0;34m)\u001b[0m\u001b[0;34m:\u001b[0m\u001b[0;34m\u001b[0m\u001b[0;34m\u001b[0m\u001b[0m\n\u001b[1;32m      8\u001b[0m   \u001b[0;32mfor\u001b[0m \u001b[0mepoch\u001b[0m \u001b[0;32min\u001b[0m \u001b[0mrange\u001b[0m\u001b[0;34m(\u001b[0m\u001b[0;36m1\u001b[0m\u001b[0;34m,\u001b[0m\u001b[0mepochs\u001b[0m\u001b[0;34m+\u001b[0m\u001b[0;36m1\u001b[0m\u001b[0;34m)\u001b[0m\u001b[0;34m:\u001b[0m\u001b[0;34m\u001b[0m\u001b[0;34m\u001b[0m\u001b[0m\n\u001b[0;32m----> 9\u001b[0;31m     \u001b[0mtrain_loss\u001b[0m\u001b[0;34m=\u001b[0m\u001b[0mtrain_on_ds\u001b[0m\u001b[0;34m(\u001b[0m\u001b[0mtrain_func\u001b[0m\u001b[0;34m,\u001b[0m\u001b[0mtrain_ds\u001b[0m\u001b[0;34m)\u001b[0m\u001b[0;34m\u001b[0m\u001b[0;34m\u001b[0m\u001b[0m\n\u001b[0m\u001b[1;32m     10\u001b[0m     \u001b[0mtest_loss\u001b[0m\u001b[0;34m=\u001b[0m\u001b[0mval_on_ds\u001b[0m\u001b[0;34m(\u001b[0m\u001b[0mval_func\u001b[0m\u001b[0;34m,\u001b[0m\u001b[0mtest_ds\u001b[0m\u001b[0;34m)\u001b[0m\u001b[0;34m\u001b[0m\u001b[0;34m\u001b[0m\u001b[0m\n\u001b[1;32m     11\u001b[0m     \u001b[0mhistory\u001b[0m\u001b[0;34m[\u001b[0m\u001b[0;34m'train_loss'\u001b[0m\u001b[0;34m]\u001b[0m\u001b[0;34m.\u001b[0m\u001b[0mappend\u001b[0m\u001b[0;34m(\u001b[0m\u001b[0mtrain_loss\u001b[0m\u001b[0;34m)\u001b[0m\u001b[0;34m\u001b[0m\u001b[0;34m\u001b[0m\u001b[0m\n",
            "\u001b[0;32m<ipython-input-19-41398f72a216>\u001b[0m in \u001b[0;36mtrain_on_ds\u001b[0;34m(train_func, train_ds)\u001b[0m\n\u001b[1;32m     10\u001b[0m     \u001b[0;31m#print(labels)\u001b[0m\u001b[0;34m\u001b[0m\u001b[0;34m\u001b[0m\u001b[0;34m\u001b[0m\u001b[0m\n\u001b[1;32m     11\u001b[0m     \u001b[0;31m#print(img)\u001b[0m\u001b[0;34m\u001b[0m\u001b[0;34m\u001b[0m\u001b[0;34m\u001b[0m\u001b[0m\n\u001b[0;32m---> 12\u001b[0;31m     \u001b[0mloss\u001b[0m\u001b[0;34m=\u001b[0m\u001b[0mtrain_func\u001b[0m\u001b[0;34m(\u001b[0m\u001b[0mimg\u001b[0m\u001b[0;34m,\u001b[0m\u001b[0mbboxes\u001b[0m\u001b[0;34m,\u001b[0m\u001b[0mlabels\u001b[0m\u001b[0;34m)\u001b[0m\u001b[0;34m\u001b[0m\u001b[0;34m\u001b[0m\u001b[0m\n\u001b[0m\u001b[1;32m     13\u001b[0m     \u001b[0mtotal_loss\u001b[0m\u001b[0;34m+=\u001b[0m\u001b[0mloss\u001b[0m\u001b[0;34m.\u001b[0m\u001b[0mnumpy\u001b[0m\u001b[0;34m(\u001b[0m\u001b[0;34m)\u001b[0m\u001b[0;34m\u001b[0m\u001b[0;34m\u001b[0m\u001b[0m\n\u001b[1;32m     14\u001b[0m \u001b[0;34m\u001b[0m\u001b[0m\n",
            "\u001b[0;32m/usr/local/lib/python3.7/dist-packages/tensorflow/python/util/traceback_utils.py\u001b[0m in \u001b[0;36merror_handler\u001b[0;34m(*args, **kwargs)\u001b[0m\n\u001b[1;32m    148\u001b[0m     \u001b[0mfiltered_tb\u001b[0m \u001b[0;34m=\u001b[0m \u001b[0;32mNone\u001b[0m\u001b[0;34m\u001b[0m\u001b[0;34m\u001b[0m\u001b[0m\n\u001b[1;32m    149\u001b[0m     \u001b[0;32mtry\u001b[0m\u001b[0;34m:\u001b[0m\u001b[0;34m\u001b[0m\u001b[0;34m\u001b[0m\u001b[0m\n\u001b[0;32m--> 150\u001b[0;31m       \u001b[0;32mreturn\u001b[0m \u001b[0mfn\u001b[0m\u001b[0;34m(\u001b[0m\u001b[0;34m*\u001b[0m\u001b[0margs\u001b[0m\u001b[0;34m,\u001b[0m \u001b[0;34m**\u001b[0m\u001b[0mkwargs\u001b[0m\u001b[0;34m)\u001b[0m\u001b[0;34m\u001b[0m\u001b[0;34m\u001b[0m\u001b[0m\n\u001b[0m\u001b[1;32m    151\u001b[0m     \u001b[0;32mexcept\u001b[0m \u001b[0mException\u001b[0m \u001b[0;32mas\u001b[0m \u001b[0me\u001b[0m\u001b[0;34m:\u001b[0m\u001b[0;34m\u001b[0m\u001b[0;34m\u001b[0m\u001b[0m\n\u001b[1;32m    152\u001b[0m       \u001b[0mfiltered_tb\u001b[0m \u001b[0;34m=\u001b[0m \u001b[0m_process_traceback_frames\u001b[0m\u001b[0;34m(\u001b[0m\u001b[0me\u001b[0m\u001b[0;34m.\u001b[0m\u001b[0m__traceback__\u001b[0m\u001b[0;34m)\u001b[0m\u001b[0;34m\u001b[0m\u001b[0;34m\u001b[0m\u001b[0m\n",
            "\u001b[0;32m/usr/local/lib/python3.7/dist-packages/tensorflow/python/eager/def_function.py\u001b[0m in \u001b[0;36m__call__\u001b[0;34m(self, *args, **kwds)\u001b[0m\n\u001b[1;32m    908\u001b[0m \u001b[0;34m\u001b[0m\u001b[0m\n\u001b[1;32m    909\u001b[0m       \u001b[0;32mwith\u001b[0m \u001b[0mOptionalXlaContext\u001b[0m\u001b[0;34m(\u001b[0m\u001b[0mself\u001b[0m\u001b[0;34m.\u001b[0m\u001b[0m_jit_compile\u001b[0m\u001b[0;34m)\u001b[0m\u001b[0;34m:\u001b[0m\u001b[0;34m\u001b[0m\u001b[0;34m\u001b[0m\u001b[0m\n\u001b[0;32m--> 910\u001b[0;31m         \u001b[0mresult\u001b[0m \u001b[0;34m=\u001b[0m \u001b[0mself\u001b[0m\u001b[0;34m.\u001b[0m\u001b[0m_call\u001b[0m\u001b[0;34m(\u001b[0m\u001b[0;34m*\u001b[0m\u001b[0margs\u001b[0m\u001b[0;34m,\u001b[0m \u001b[0;34m**\u001b[0m\u001b[0mkwds\u001b[0m\u001b[0;34m)\u001b[0m\u001b[0;34m\u001b[0m\u001b[0;34m\u001b[0m\u001b[0m\n\u001b[0m\u001b[1;32m    911\u001b[0m \u001b[0;34m\u001b[0m\u001b[0m\n\u001b[1;32m    912\u001b[0m       \u001b[0mnew_tracing_count\u001b[0m \u001b[0;34m=\u001b[0m \u001b[0mself\u001b[0m\u001b[0;34m.\u001b[0m\u001b[0mexperimental_get_tracing_count\u001b[0m\u001b[0;34m(\u001b[0m\u001b[0;34m)\u001b[0m\u001b[0;34m\u001b[0m\u001b[0;34m\u001b[0m\u001b[0m\n",
            "\u001b[0;32m/usr/local/lib/python3.7/dist-packages/tensorflow/python/eager/def_function.py\u001b[0m in \u001b[0;36m_call\u001b[0;34m(self, *args, **kwds)\u001b[0m\n\u001b[1;32m    940\u001b[0m       \u001b[0;31m# In this case we have created variables on the first call, so we run the\u001b[0m\u001b[0;34m\u001b[0m\u001b[0;34m\u001b[0m\u001b[0;34m\u001b[0m\u001b[0m\n\u001b[1;32m    941\u001b[0m       \u001b[0;31m# defunned version which is guaranteed to never create variables.\u001b[0m\u001b[0;34m\u001b[0m\u001b[0;34m\u001b[0m\u001b[0;34m\u001b[0m\u001b[0m\n\u001b[0;32m--> 942\u001b[0;31m       \u001b[0;32mreturn\u001b[0m \u001b[0mself\u001b[0m\u001b[0;34m.\u001b[0m\u001b[0m_stateless_fn\u001b[0m\u001b[0;34m(\u001b[0m\u001b[0;34m*\u001b[0m\u001b[0margs\u001b[0m\u001b[0;34m,\u001b[0m \u001b[0;34m**\u001b[0m\u001b[0mkwds\u001b[0m\u001b[0;34m)\u001b[0m  \u001b[0;31m# pylint: disable=not-callable\u001b[0m\u001b[0;34m\u001b[0m\u001b[0;34m\u001b[0m\u001b[0m\n\u001b[0m\u001b[1;32m    943\u001b[0m     \u001b[0;32melif\u001b[0m \u001b[0mself\u001b[0m\u001b[0;34m.\u001b[0m\u001b[0m_stateful_fn\u001b[0m \u001b[0;32mis\u001b[0m \u001b[0;32mnot\u001b[0m \u001b[0;32mNone\u001b[0m\u001b[0;34m:\u001b[0m\u001b[0;34m\u001b[0m\u001b[0;34m\u001b[0m\u001b[0m\n\u001b[1;32m    944\u001b[0m       \u001b[0;31m# Release the lock early so that multiple threads can perform the call\u001b[0m\u001b[0;34m\u001b[0m\u001b[0;34m\u001b[0m\u001b[0;34m\u001b[0m\u001b[0m\n",
            "\u001b[0;32m/usr/local/lib/python3.7/dist-packages/tensorflow/python/eager/function.py\u001b[0m in \u001b[0;36m__call__\u001b[0;34m(self, *args, **kwargs)\u001b[0m\n\u001b[1;32m   3129\u001b[0m        filtered_flat_args) = self._maybe_define_function(args, kwargs)\n\u001b[1;32m   3130\u001b[0m     return graph_function._call_flat(\n\u001b[0;32m-> 3131\u001b[0;31m         filtered_flat_args, captured_inputs=graph_function.captured_inputs)  # pylint: disable=protected-access\n\u001b[0m\u001b[1;32m   3132\u001b[0m \u001b[0;34m\u001b[0m\u001b[0m\n\u001b[1;32m   3133\u001b[0m   \u001b[0;34m@\u001b[0m\u001b[0mproperty\u001b[0m\u001b[0;34m\u001b[0m\u001b[0;34m\u001b[0m\u001b[0m\n",
            "\u001b[0;32m/usr/local/lib/python3.7/dist-packages/tensorflow/python/eager/function.py\u001b[0m in \u001b[0;36m_call_flat\u001b[0;34m(self, args, captured_inputs, cancellation_manager)\u001b[0m\n\u001b[1;32m   1958\u001b[0m       \u001b[0;31m# No tape is watching; skip to running the function.\u001b[0m\u001b[0;34m\u001b[0m\u001b[0;34m\u001b[0m\u001b[0;34m\u001b[0m\u001b[0m\n\u001b[1;32m   1959\u001b[0m       return self._build_call_outputs(self._inference_function.call(\n\u001b[0;32m-> 1960\u001b[0;31m           ctx, args, cancellation_manager=cancellation_manager))\n\u001b[0m\u001b[1;32m   1961\u001b[0m     forward_backward = self._select_forward_and_backward_functions(\n\u001b[1;32m   1962\u001b[0m         \u001b[0margs\u001b[0m\u001b[0;34m,\u001b[0m\u001b[0;34m\u001b[0m\u001b[0;34m\u001b[0m\u001b[0m\n",
            "\u001b[0;32m/usr/local/lib/python3.7/dist-packages/tensorflow/python/eager/function.py\u001b[0m in \u001b[0;36mcall\u001b[0;34m(self, ctx, args, cancellation_manager)\u001b[0m\n\u001b[1;32m    601\u001b[0m               \u001b[0minputs\u001b[0m\u001b[0;34m=\u001b[0m\u001b[0margs\u001b[0m\u001b[0;34m,\u001b[0m\u001b[0;34m\u001b[0m\u001b[0;34m\u001b[0m\u001b[0m\n\u001b[1;32m    602\u001b[0m               \u001b[0mattrs\u001b[0m\u001b[0;34m=\u001b[0m\u001b[0mattrs\u001b[0m\u001b[0;34m,\u001b[0m\u001b[0;34m\u001b[0m\u001b[0;34m\u001b[0m\u001b[0m\n\u001b[0;32m--> 603\u001b[0;31m               ctx=ctx)\n\u001b[0m\u001b[1;32m    604\u001b[0m         \u001b[0;32melse\u001b[0m\u001b[0;34m:\u001b[0m\u001b[0;34m\u001b[0m\u001b[0;34m\u001b[0m\u001b[0m\n\u001b[1;32m    605\u001b[0m           outputs = execute.execute_with_cancellation(\n",
            "\u001b[0;32m/usr/local/lib/python3.7/dist-packages/tensorflow/python/eager/execute.py\u001b[0m in \u001b[0;36mquick_execute\u001b[0;34m(op_name, num_outputs, inputs, attrs, ctx, name)\u001b[0m\n\u001b[1;32m     57\u001b[0m     \u001b[0mctx\u001b[0m\u001b[0;34m.\u001b[0m\u001b[0mensure_initialized\u001b[0m\u001b[0;34m(\u001b[0m\u001b[0;34m)\u001b[0m\u001b[0;34m\u001b[0m\u001b[0;34m\u001b[0m\u001b[0m\n\u001b[1;32m     58\u001b[0m     tensors = pywrap_tfe.TFE_Py_Execute(ctx._handle, device_name, op_name,\n\u001b[0;32m---> 59\u001b[0;31m                                         inputs, attrs, num_outputs)\n\u001b[0m\u001b[1;32m     60\u001b[0m   \u001b[0;32mexcept\u001b[0m \u001b[0mcore\u001b[0m\u001b[0;34m.\u001b[0m\u001b[0m_NotOkStatusException\u001b[0m \u001b[0;32mas\u001b[0m \u001b[0me\u001b[0m\u001b[0;34m:\u001b[0m\u001b[0;34m\u001b[0m\u001b[0;34m\u001b[0m\u001b[0m\n\u001b[1;32m     61\u001b[0m     \u001b[0;32mif\u001b[0m \u001b[0mname\u001b[0m \u001b[0;32mis\u001b[0m \u001b[0;32mnot\u001b[0m \u001b[0;32mNone\u001b[0m\u001b[0;34m:\u001b[0m\u001b[0;34m\u001b[0m\u001b[0;34m\u001b[0m\u001b[0m\n",
            "\u001b[0;31mKeyboardInterrupt\u001b[0m: "
          ]
        }
      ],
      "source": [
        "epochs=100\n",
        "optimizer=tf.keras.optimizers.SGD(0.001,momentum=0.9)\n",
        "train_func=get_train_step_func(model,to_fine_tune,optimizer)\n",
        "val_func=get_val_func(model)\n",
        "\n",
        "history={'train_loss':[],'test_loss':[]}\n",
        "with tf.device('/GPU:0'):\n",
        "  for epoch in range(1,epochs+1):\n",
        "    train_loss=train_on_ds(train_func,train_ds)\n",
        "    test_loss=val_on_ds(val_func,test_ds)\n",
        "    history['train_loss'].append(train_loss)\n",
        "    history['test_loss'].append(test_loss)\n",
        "    print(f'epoch:{epoch} train_loss:{train_loss} test_loss:{test_loss}')"
      ]
    },
    {
      "cell_type": "code",
      "execution_count": null,
      "metadata": {
        "id": "LAma_K6Rqa6a"
      },
      "outputs": [],
      "source": [
        "import os\n",
        "import random\n",
        "import io\n",
        "import imageio\n",
        "import glob\n",
        "import scipy.misc\n",
        "import numpy as np\n",
        "from six import BytesIO\n",
        "from PIL import Image, ImageDraw, ImageFont\n",
        "from IPython.display import display, Javascript\n",
        "from IPython.display import Image as IPyImage"
      ]
    },
    {
      "cell_type": "code",
      "execution_count": null,
      "metadata": {
        "id": "3RhAowON3bOD"
      },
      "outputs": [],
      "source": [
        "def load_image_into_numpy_array(path):\n",
        "  \"\"\"Load an image from file into a numpy array.\n",
        "\n",
        "  Puts image into numpy array to feed into tensorflow graph.\n",
        "  Note that by convention we put it into a numpy array with shape\n",
        "  (height, width, channels), where channels=3 for RGB.\n",
        "\n",
        "  Args:\n",
        "    path: a file path.\n",
        "\n",
        "  Returns:\n",
        "    uint8 numpy array with shape (img_height, img_width, 3)\n",
        "  \"\"\"\n",
        "  img_data = tf.io.gfile.GFile(path, 'rb').read()\n",
        "  image = Image.open(BytesIO(img_data))\n",
        "  (im_width, im_height) = image.size\n",
        "  return np.array(image.getdata()).reshape(\n",
        "      (im_height, im_width, 3)).astype(np.uint8)\n",
        "\n",
        "def plot_detections(image_np,\n",
        "                    boxes,\n",
        "                    classes,\n",
        "                    scores,\n",
        "                    category_index,\n",
        "                    figsize=(12, 16),\n",
        "                    image_name=None):\n",
        "  image_np_with_annotations = image_np.copy()\n",
        "  viz_utils.visualize_boxes_and_labels_on_image_array(\n",
        "      image_np_with_annotations,\n",
        "      boxes,\n",
        "      classes,\n",
        "      scores,\n",
        "      category_index,\n",
        "      use_normalized_coordinates=True,\n",
        "      min_score_thresh=0.3)\n",
        "  image_np_with_annotations/=255.0 \n",
        "  if image_name:\n",
        "    plt.imsave(image_name, image_np_with_annotations)\n",
        "  else:\n",
        "    plt.imshow(image_np_with_annotations)"
      ]
    },
    {
      "cell_type": "code",
      "execution_count": 74,
      "metadata": {
        "id": "ypXLhL2uyHhS"
      },
      "outputs": [],
      "source": [
        "lista=['carro', 'camion', 'peaton', 'ciclista', 'luz']\n",
        "dict_={}\n",
        "for i in range(num_classes):\n",
        "  dict_[i]={'id':i,'name':lista[i]}"
      ]
    },
    {
      "cell_type": "code",
      "execution_count": 75,
      "metadata": {
        "colab": {
          "base_uri": "https://localhost:8080/"
        },
        "id": "oHkG9EOiyfVy",
        "outputId": "c13c725f-d786-4905-bbd5-0233d5a92c34"
      },
      "outputs": [
        {
          "output_type": "execute_result",
          "data": {
            "text/plain": [
              "{0: {'id': 0, 'name': 'carro'},\n",
              " 1: {'id': 1, 'name': 'camion'},\n",
              " 2: {'id': 2, 'name': 'peaton'},\n",
              " 3: {'id': 3, 'name': 'ciclista'},\n",
              " 4: {'id': 4, 'name': 'luz'}}"
            ]
          },
          "metadata": {},
          "execution_count": 75
        }
      ],
      "source": [
        "dict_"
      ]
    },
    {
      "cell_type": "code",
      "execution_count": 76,
      "metadata": {
        "id": "x7UcWvqE3bJ0"
      },
      "outputs": [],
      "source": [
        "def create_validation_images(data,images_path):\n",
        "  images=[]\n",
        "  for img in data.to_numpy():\n",
        "    name_img=img[0]\n",
        "    img_PIL=load_img(join(images_path,name_img))\n",
        "    img_np=img_to_array(img_PIL)\n",
        "    images.append(img_np)\n",
        "  return images"
      ]
    },
    {
      "cell_type": "code",
      "source": [
        "train_df,test_df=process_dataframes(train_data,test_data,0.05)"
      ],
      "metadata": {
        "colab": {
          "base_uri": "https://localhost:8080/"
        },
        "id": "PAGVdu0qxtxc",
        "outputId": "b9c87dfa-5af1-44a8-fd8f-1c79d6bebf2b"
      },
      "execution_count": 80,
      "outputs": [
        {
          "output_type": "stream",
          "name": "stdout",
          "text": [
            "Size of train data: 6620\n",
            "Size of test data: 1634\n"
          ]
        }
      ]
    },
    {
      "cell_type": "code",
      "execution_count": 81,
      "metadata": {
        "id": "2TbgIm60tH46"
      },
      "outputs": [],
      "source": [
        "validation_images=create_validation_images(test_df,images_path)"
      ]
    },
    {
      "cell_type": "code",
      "source": [
        "ckpt_model=tf.train.Checkpoint(model=model)\n",
        "ckpt_model.save('ckpt')"
      ],
      "metadata": {
        "colab": {
          "base_uri": "https://localhost:8080/",
          "height": 36
        },
        "id": "v2W1DOGXyHO9",
        "outputId": "684f494e-2ed1-4126-b306-dcea61b21e85"
      },
      "execution_count": 83,
      "outputs": [
        {
          "output_type": "execute_result",
          "data": {
            "text/plain": [
              "'ckpt-1'"
            ],
            "application/vnd.google.colaboratory.intrinsic+json": {
              "type": "string"
            }
          },
          "metadata": {},
          "execution_count": 83
        }
      ]
    },
    {
      "cell_type": "code",
      "source": [
        "from google.colab import drive\n",
        "drive.mount('drive')"
      ],
      "metadata": {
        "colab": {
          "base_uri": "https://localhost:8080/"
        },
        "id": "J5RzqULIzq0J",
        "outputId": "91a605d3-49d8-4414-b7c1-1a5359b01149"
      },
      "execution_count": 85,
      "outputs": [
        {
          "output_type": "stream",
          "name": "stdout",
          "text": [
            "Mounted at drive\n"
          ]
        }
      ]
    },
    {
      "cell_type": "code",
      "source": [
        "!cp /content/ckpt-1.data-00000-of-00001 \"drive/My Drive/\""
      ],
      "metadata": {
        "id": "XTqeLU55zvb7"
      },
      "execution_count": 86,
      "outputs": []
    },
    {
      "cell_type": "code",
      "source": [
        "!cp /content/ckpt-1.index \"drive/My Drive/\""
      ],
      "metadata": {
        "id": "xRQe_G7uz3S8"
      },
      "execution_count": 87,
      "outputs": []
    },
    {
      "cell_type": "code",
      "execution_count": 91,
      "metadata": {
        "id": "sTvVMrMVtWeD"
      },
      "outputs": [],
      "source": [
        "for i,img in enumerate(validation_images):\n",
        "  img_=tf.expand_dims(img,axis=0)\n",
        "  img_,shape=model.preprocess(img_)\n",
        "  detections=model.predict(img_,shape)\n",
        "  detections=model.postprocess(detections,shape)\n",
        "  plot_detections(\n",
        "      img,\n",
        "      detections['detection_boxes'][0].numpy(),\n",
        "      detections['detection_classes'][0].numpy().astype(np.uint32),\n",
        "      detections['detection_scores'][0].numpy(),\n",
        "      dict_,figsize=(15,20),image_name=\"CAR_framev2_\"+('%04d' % i)+\".jpg\"\n",
        "  )"
      ]
    },
    {
      "cell_type": "code",
      "source": [
        "filenames = glob.glob('CAR_framev2_*.jpg')\n",
        "filenames = sorted(filenames)\n",
        "last = -1\n",
        "images = []\n",
        "for filename in filenames:\n",
        "  image = imageio.imread(filename)\n",
        "  images.append(image)"
      ],
      "metadata": {
        "id": "8hl0_DZNBUIn"
      },
      "execution_count": null,
      "outputs": []
    },
    {
      "cell_type": "code",
      "execution_count": 99,
      "metadata": {
        "id": "njFgoJJm3bBO"
      },
      "outputs": [],
      "source": [
        "import cv2\n",
        "\n",
        "height,width,depth=image.shape\n",
        "size=(width,height)\n",
        "\n",
        "out = cv2.VideoWriter('video_OD_CARS.mp4',cv2.VideoWriter_fourcc(*'MP4V'), 50, size)\n",
        " \n",
        "for i in range(len(images)):\n",
        "    out.write(images[i])\n",
        "out.release()"
      ]
    },
    {
      "cell_type": "code",
      "execution_count": 100,
      "metadata": {
        "id": "B5juc9z_3a7O"
      },
      "outputs": [],
      "source": [
        "!cp /content/video_OD_CARS.mp4 \"drive/My Drive/\""
      ]
    }
  ],
  "metadata": {
    "accelerator": "GPU",
    "colab": {
      "name": "SelfDrivingCars _FINISHED.ipynb",
      "provenance": []
    },
    "gpuClass": "standard",
    "kernelspec": {
      "display_name": "Python 3.9.6 64-bit",
      "language": "python",
      "name": "python3"
    },
    "language_info": {
      "name": "python",
      "version": "3.9.6"
    },
    "vscode": {
      "interpreter": {
        "hash": "760a11dd155e1ba41ab4ca86de9a3c253a0fdc5bfd98ef343e35f313cb95773d"
      }
    }
  },
  "nbformat": 4,
  "nbformat_minor": 0
}